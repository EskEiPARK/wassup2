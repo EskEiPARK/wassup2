{
 "cells": [
  {
   "cell_type": "code",
   "execution_count": 1,
   "id": "6ac0ba0f-b07b-4b78-a207-fc5d7c3b8d35",
   "metadata": {},
   "outputs": [
    {
     "name": "stdout",
     "output_type": "stream",
     "text": [
      "210\n"
     ]
    }
   ],
   "source": [
    "### Q1\n",
    "\n",
    "국어 = 80\n",
    "영어 = 75\n",
    "수학 = 55\n",
    "과목 = [국어, 영어, 수학]\n",
    "과목점수합계 = 국어+영어+수학\n",
    "print(과목점수합계)"
   ]
  },
  {
   "cell_type": "code",
   "execution_count": 2,
   "id": "7e06c86d-c1f5-4111-9cf0-c44d8f670180",
   "metadata": {},
   "outputs": [
    {
     "name": "stdout",
     "output_type": "stream",
     "text": [
      "70.0\n"
     ]
    }
   ],
   "source": [
    "과목점수평균 = 과목점수합계/len(과목)\n",
    "print(과목점수평균)"
   ]
  },
  {
   "cell_type": "code",
   "execution_count": 3,
   "id": "30171e19-8e20-478e-b0cf-0a10ec99e9d5",
   "metadata": {},
   "outputs": [
    {
     "name": "stdout",
     "output_type": "stream",
     "text": [
      "1 나머지가 0이 아니면 홀수\n"
     ]
    }
   ],
   "source": [
    "### Q2 자연수 13이 홀수인지 짝수인지 판별\n",
    "\n",
    "print(13%2, '나머지가 0이 아니면 홀수')"
   ]
  },
  {
   "cell_type": "code",
   "execution_count": 5,
   "id": "46d01a1c-f003-438d-95e6-c1bdbdd51aa5",
   "metadata": {},
   "outputs": [
    {
     "name": "stdout",
     "output_type": "stream",
     "text": [
      "881120\n",
      "1068234\n"
     ]
    }
   ],
   "source": [
    "### Q3. 홍길동 씨의 주민등록번호 881120-1068234\n",
    "### 홍길동씨의 주민등록번호를 연월일(YYYYMMDD)부분과 그 뒤의 숫자 부분으로 나누어 출력해보자\n",
    "\n",
    "ID = \"881120-1068234\"\n",
    "yymmdd = ID[:6]\n",
    "num = ID[7:]\n",
    "print(yymmdd)\n",
    "print(num)"
   ]
  },
  {
   "cell_type": "code",
   "execution_count": 7,
   "id": "2ad877c0-40f2-4bd3-ba40-ee5e95366301",
   "metadata": {},
   "outputs": [
    {
     "name": "stdout",
     "output_type": "stream",
     "text": [
      "881120-1068234\n"
     ]
    }
   ],
   "source": [
    "### Q4. 주민등록번호 뒷자리의 맨 첫 번째 숫자는 성별을 나타낸다\n",
    "### 주민등록번호에서 성별을 나타내는 숫자를 출력해보자\n",
    "\n",
    "print(ID)"
   ]
  },
  {
   "cell_type": "code",
   "execution_count": 8,
   "id": "fa6a6277-df02-434a-b0a4-66b5face66f8",
   "metadata": {},
   "outputs": [
    {
     "name": "stdout",
     "output_type": "stream",
     "text": [
      "1\n"
     ]
    }
   ],
   "source": [
    "print(ID[7])"
   ]
  },
  {
   "cell_type": "code",
   "execution_count": 11,
   "id": "32916045-2881-4ce2-a89c-0d29f1d7fd41",
   "metadata": {},
   "outputs": [
    {
     "name": "stdout",
     "output_type": "stream",
     "text": [
      "a:b:c:d\n"
     ]
    }
   ],
   "source": [
    "### Q5. 다음과 같은 문자열 a:b:c:d가 있다\n",
    "### 문자열의 replace 함수를 사용하여 a#b#c#d#로 바꿔서 출력해보자\n",
    "\n",
    "str = \"a:b:c:d\"\n",
    "print(str)"
   ]
  },
  {
   "cell_type": "code",
   "execution_count": 13,
   "id": "d62b4a52-865b-464f-bc85-e8c60063628a",
   "metadata": {},
   "outputs": [
    {
     "name": "stdout",
     "output_type": "stream",
     "text": [
      "a#b#c#d\n"
     ]
    }
   ],
   "source": [
    "str1 = str.replace(\":\", \"#\")\n",
    "print(str1)"
   ]
  },
  {
   "cell_type": "code",
   "execution_count": 14,
   "id": "1bac064e-755b-432e-822e-2fcd123cba3f",
   "metadata": {},
   "outputs": [],
   "source": [
    "### Q6. [1,3,5,4,2] 리스트를 [5,4,3,2,1]로 만들어보자"
   ]
  },
  {
   "cell_type": "code",
   "execution_count": 16,
   "id": "439f526c-cdbc-43e9-a56b-0117b75ddd5b",
   "metadata": {},
   "outputs": [
    {
     "name": "stdout",
     "output_type": "stream",
     "text": [
      "[1, 2, 3, 4, 5]\n"
     ]
    }
   ],
   "source": [
    "a = [1,3,5,4,2]\n",
    "a.sort()\n",
    "print(a)"
   ]
  },
  {
   "cell_type": "code",
   "execution_count": 17,
   "id": "d44b8922-4183-4f13-91be-6d1aec096b97",
   "metadata": {},
   "outputs": [
    {
     "name": "stdout",
     "output_type": "stream",
     "text": [
      "[5, 4, 3, 2, 1]\n"
     ]
    }
   ],
   "source": [
    "a.reverse()\n",
    "print(a)"
   ]
  },
  {
   "cell_type": "code",
   "execution_count": 18,
   "id": "27e9ae37-617d-4175-b4d2-67497062071a",
   "metadata": {},
   "outputs": [],
   "source": [
    "### Q7. 'Life', 'is', 'too', 'short'] 리스트를 Life is too short 문자열로 만들어 출력해보자."
   ]
  },
  {
   "cell_type": "code",
   "execution_count": 20,
   "id": "35daf042-3053-4746-953b-afd41f7b77ba",
   "metadata": {},
   "outputs": [
    {
     "name": "stdout",
     "output_type": "stream",
     "text": [
      "Life is too short\n"
     ]
    }
   ],
   "source": [
    "a = ['Life', 'is', 'too', 'short']\n",
    "str = ' '.join(a)\n",
    "print(str)"
   ]
  },
  {
   "cell_type": "code",
   "execution_count": 21,
   "id": "6db4ca64-d526-40a6-8a18-91d5ee1eb694",
   "metadata": {},
   "outputs": [],
   "source": [
    "### Q8. (1,2,3) 튜플에 값 4 추가하기\n",
    "\n",
    "a = (1,2,3)\n",
    "a = a + (4,)"
   ]
  },
  {
   "cell_type": "code",
   "execution_count": 22,
   "id": "4ba01e1b-d254-4595-81c2-13bb2df2f825",
   "metadata": {},
   "outputs": [
    {
     "name": "stdout",
     "output_type": "stream",
     "text": [
      "(1, 2, 3, 4)\n"
     ]
    }
   ],
   "source": [
    "print(a)"
   ]
  },
  {
   "cell_type": "markdown",
   "id": "018ecb7f-b0f1-4aa8-ab85-dd955e44d911",
   "metadata": {},
   "source": [
    "### Q9. 딕셔너리 a 가 있을 때,\n",
    "```\n",
    ">>> a = dict()\n",
    ">>> a\n",
    "{}\n",
    "```\n",
    "다음 중 오류가 발생하는 경우를 고르고, 그 이유를 설명해 보자.   \n",
    "1. a['name'] = 'python'\n",
    "2. a[('a',)] = 'python'\n",
    "3. a[[1]] = 'python'\n",
    "4. a[250] = 'python''python'"
   ]
  },
  {
   "cell_type": "code",
   "execution_count": 24,
   "id": "b5febb87-04cd-4202-b42f-2bdc054d33f3",
   "metadata": {},
   "outputs": [
    {
     "data": {
      "text/plain": [
       "{}"
      ]
     },
     "execution_count": 24,
     "metadata": {},
     "output_type": "execute_result"
    }
   ],
   "source": [
    "a = dict()\n",
    "a"
   ]
  },
  {
   "cell_type": "code",
   "execution_count": 25,
   "id": "cd954418-a94f-4c2f-9a59-cfac4d874906",
   "metadata": {},
   "outputs": [],
   "source": [
    "a['name'] = 'python'"
   ]
  },
  {
   "cell_type": "code",
   "execution_count": 26,
   "id": "ace7c880-76fd-4d57-875b-da33ae2e553b",
   "metadata": {},
   "outputs": [],
   "source": [
    "a[('a',)] = 'python'"
   ]
  },
  {
   "cell_type": "code",
   "execution_count": 27,
   "id": "02b76e61-b5bb-47c4-801a-b595a7047785",
   "metadata": {},
   "outputs": [
    {
     "ename": "SyntaxError",
     "evalue": "cannot assign to function call here. Maybe you meant '==' instead of '='? (3411482139.py, line 1)",
     "output_type": "error",
     "traceback": [
      "\u001b[1;36m  Cell \u001b[1;32mIn[27], line 1\u001b[1;36m\u001b[0m\n\u001b[1;33m    a([1]) = 'python'\u001b[0m\n\u001b[1;37m    ^\u001b[0m\n\u001b[1;31mSyntaxError\u001b[0m\u001b[1;31m:\u001b[0m cannot assign to function call here. Maybe you meant '==' instead of '='?\n"
     ]
    }
   ],
   "source": [
    "a([1]) = 'python' ### [1]은 리스트형으로 수정이 가능하므로 딕셔너리의 key 값으로 사용 불가"
   ]
  },
  {
   "cell_type": "code",
   "execution_count": 28,
   "id": "fb38ea9f-a32f-4009-a867-e95cdd35e58e",
   "metadata": {},
   "outputs": [],
   "source": [
    "a[250] = 'python'"
   ]
  },
  {
   "cell_type": "code",
   "execution_count": 29,
   "id": "01defd69-e277-4c55-b52f-b637e647c7ef",
   "metadata": {},
   "outputs": [
    {
     "name": "stdout",
     "output_type": "stream",
     "text": [
      "80\n"
     ]
    }
   ],
   "source": [
    "### Q10. 딕셔너리 a에서 'B'에 해당 되는 값을 추출\n",
    "a = {'A':90, 'B':80, 'C':70}\n",
    "\n",
    "print(a['B'])"
   ]
  },
  {
   "cell_type": "code",
   "execution_count": 30,
   "id": "e20f2ae7-3f0d-4908-a5d8-407f58e2b1b1",
   "metadata": {},
   "outputs": [],
   "source": [
    "### Q11. a 리스트에서 중복 숫자를 제거\n",
    "\n",
    "a = [1, 1, 1, 2, 2, 3, 3, 3, 4, 4, 5]"
   ]
  },
  {
   "cell_type": "code",
   "execution_count": 31,
   "id": "29ae6187-a5f8-444a-8651-5cdae15c559a",
   "metadata": {},
   "outputs": [
    {
     "name": "stdout",
     "output_type": "stream",
     "text": [
      "{1, 2, 3, 4, 5}\n"
     ]
    }
   ],
   "source": [
    "a_set = set(a)\n",
    "\n",
    "print(a_set)"
   ]
  },
  {
   "cell_type": "code",
   "execution_count": 35,
   "id": "3d702c73-0079-43f9-a15e-0b769f5fd59c",
   "metadata": {},
   "outputs": [],
   "source": [
    "### Q12. 파이썬은 다음 처럼 동일한 값에 여러 개의 변수를 선언할 수 있다.\n",
    "a = b = [1,2,3]\n",
    "### 위와 같이 a,와 b 변수를 선언 한 후 a의 두 번째 요소값을 변경하면 b 값은 어떻게 될까?\n",
    "\n",
    "a[1] = 4"
   ]
  },
  {
   "cell_type": "code",
   "execution_count": 39,
   "id": "79001dfe-f213-4043-b0a6-4ae87697334f",
   "metadata": {},
   "outputs": [
    {
     "name": "stdout",
     "output_type": "stream",
     "text": [
      "[1, 4, 3]\n"
     ]
    }
   ],
   "source": [
    "a = b = [1,2,3]\n",
    "a[1] = 4\n",
    "print(b)"
   ]
  },
  {
   "cell_type": "code",
   "execution_count": 41,
   "id": "baf14d78-6159-41be-a679-26d3304f7117",
   "metadata": {},
   "outputs": [
    {
     "data": {
      "text/plain": [
       "[1, 4, 3]"
      ]
     },
     "execution_count": 41,
     "metadata": {},
     "output_type": "execute_result"
    }
   ],
   "source": [
    "a"
   ]
  },
  {
   "cell_type": "code",
   "execution_count": 44,
   "id": "19428dd5-f39d-4a6b-86bb-cbb9dfeecc6d",
   "metadata": {},
   "outputs": [
    {
     "name": "stdout",
     "output_type": "stream",
     "text": [
      "[1, 4, 3]\n"
     ]
    },
    {
     "data": {
      "text/plain": [
       "(None, list)"
      ]
     },
     "execution_count": 44,
     "metadata": {},
     "output_type": "execute_result"
    }
   ],
   "source": [
    "print(b), type(b)"
   ]
  },
  {
   "cell_type": "code",
   "execution_count": 45,
   "id": "e7b011df-9f17-4b06-897e-e4df03e8aa42",
   "metadata": {},
   "outputs": [],
   "source": [
    "### 변수 a와 b는 동일한 index를 가진 리스트를 할당 받았기 때문에"
   ]
  },
  {
   "cell_type": "code",
   "execution_count": null,
   "id": "d80320d9-c896-4ac0-aec0-7483cd5966cd",
   "metadata": {},
   "outputs": [],
   "source": []
  }
 ],
 "metadata": {
  "kernelspec": {
   "display_name": "Python 3 (ipykernel)",
   "language": "python",
   "name": "python3"
  },
  "language_info": {
   "codemirror_mode": {
    "name": "ipython",
    "version": 3
   },
   "file_extension": ".py",
   "mimetype": "text/x-python",
   "name": "python",
   "nbconvert_exporter": "python",
   "pygments_lexer": "ipython3",
   "version": "3.12.1"
  }
 },
 "nbformat": 4,
 "nbformat_minor": 5
}
