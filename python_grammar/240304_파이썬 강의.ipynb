{
 "cells": [
  {
   "cell_type": "markdown",
   "id": "aa376df3-a169-47f0-93ab-957780fa6a4b",
   "metadata": {},
   "source": [
    "# 2024년 3월 4일 강의"
   ]
  },
  {
   "cell_type": "markdown",
   "id": "1b59c7d0-1e07-4466-ab57-d3a40cf6febf",
   "metadata": {},
   "source": [
    "## 리스트 자료형"
   ]
  },
  {
   "cell_type": "code",
   "execution_count": 1,
   "id": "54bb6eab-1f6a-4b91-bfaf-23ca74b5356d",
   "metadata": {},
   "outputs": [],
   "source": [
    "### 리스트 객체 만들기\n",
    "\n",
    "odd = [1, 3, 5, 7, 9]"
   ]
  },
  {
   "cell_type": "code",
   "execution_count": 2,
   "id": "b1c20648-9805-4ab4-9eda-a484cfe5a2b7",
   "metadata": {},
   "outputs": [
    {
     "data": {
      "text/plain": [
       "list"
      ]
     },
     "execution_count": 2,
     "metadata": {},
     "output_type": "execute_result"
    }
   ],
   "source": [
    "odd\n",
    "type(odd)"
   ]
  },
  {
   "cell_type": "code",
   "execution_count": 3,
   "id": "303d267d-5deb-47ac-83f5-13928a35786b",
   "metadata": {},
   "outputs": [
    {
     "data": {
      "text/plain": [
       "([],\n",
       " [1, 2, 3],\n",
       " ['life', 'is', 'too', 'short'],\n",
       " [1, 2, ['life', 'iw']],\n",
       " [1, 2, 'life', 'is'])"
      ]
     },
     "execution_count": 3,
     "metadata": {},
     "output_type": "execute_result"
    }
   ],
   "source": [
    "a = []\n",
    "b = [1,2,3]\n",
    "c = ['life', 'is', 'too', 'short']\n",
    "d = [1, 2, 'life', 'is']\n",
    "e = [1, 2, ['life', 'iw']]\n",
    "\n",
    "a,b,c,e,d"
   ]
  },
  {
   "cell_type": "markdown",
   "id": "da340f31-e043-4271-9a8d-a6124dcfc474",
   "metadata": {},
   "source": [
    "### 리스트의 인덱싱과 슬라이싱\n",
    "#### 리스트의 인덱싱"
   ]
  },
  {
   "cell_type": "code",
   "execution_count": 4,
   "id": "c156059c-414c-4a3a-a559-a9e1a5eee902",
   "metadata": {},
   "outputs": [
    {
     "data": {
      "text/plain": [
       "[1, 2, 3]"
      ]
     },
     "execution_count": 4,
     "metadata": {},
     "output_type": "execute_result"
    }
   ],
   "source": [
    "### 리스트의 인덱싱\n",
    "\n",
    "a = [1,2,3]\n",
    "a"
   ]
  },
  {
   "cell_type": "code",
   "execution_count": 5,
   "id": "9ea89835-cc4e-4aed-8d17-9cf7b628c52e",
   "metadata": {},
   "outputs": [
    {
     "data": {
      "text/plain": [
       "4"
      ]
     },
     "execution_count": 5,
     "metadata": {},
     "output_type": "execute_result"
    }
   ],
   "source": [
    "a[0] + a[2]"
   ]
  },
  {
   "cell_type": "code",
   "execution_count": 6,
   "id": "c5c2d3be-4420-4271-a5c6-c29bc0b5f5db",
   "metadata": {},
   "outputs": [
    {
     "data": {
      "text/plain": [
       "3"
      ]
     },
     "execution_count": 6,
     "metadata": {},
     "output_type": "execute_result"
    }
   ],
   "source": [
    "a[-1]"
   ]
  },
  {
   "cell_type": "code",
   "execution_count": 8,
   "id": "7b861474-1cbd-431c-9c7b-36328fe65a25",
   "metadata": {},
   "outputs": [
    {
     "data": {
      "text/plain": [
       "1"
      ]
     },
     "execution_count": 8,
     "metadata": {},
     "output_type": "execute_result"
    }
   ],
   "source": [
    "a = [1,2,3,['a','b','c']]\n",
    "\n",
    "a[0]"
   ]
  },
  {
   "cell_type": "code",
   "execution_count": 9,
   "id": "b4f09dc4-f053-43cb-8f74-c946e66ac79e",
   "metadata": {},
   "outputs": [
    {
     "data": {
      "text/plain": [
       "['a', 'b', 'c']"
      ]
     },
     "execution_count": 9,
     "metadata": {},
     "output_type": "execute_result"
    }
   ],
   "source": [
    "a[-1]"
   ]
  },
  {
   "cell_type": "code",
   "execution_count": 10,
   "id": "9df9ecc0-6641-412b-b2fb-b8d8b824c84d",
   "metadata": {},
   "outputs": [
    {
     "data": {
      "text/plain": [
       "['a', 'b', 'c']"
      ]
     },
     "execution_count": 10,
     "metadata": {},
     "output_type": "execute_result"
    }
   ],
   "source": [
    "a[3]"
   ]
  },
  {
   "cell_type": "code",
   "execution_count": 13,
   "id": "24561dae-9645-42ad-a1bc-20b6c7851012",
   "metadata": {},
   "outputs": [
    {
     "data": {
      "text/plain": [
       "'a'"
      ]
     },
     "execution_count": 13,
     "metadata": {},
     "output_type": "execute_result"
    }
   ],
   "source": [
    "a[-1][0]"
   ]
  },
  {
   "cell_type": "code",
   "execution_count": 14,
   "id": "e6b54d79-a933-4f68-b099-2babfef58e13",
   "metadata": {},
   "outputs": [
    {
     "data": {
      "text/plain": [
       "'b'"
      ]
     },
     "execution_count": 14,
     "metadata": {},
     "output_type": "execute_result"
    }
   ],
   "source": [
    "a[3][1]"
   ]
  },
  {
   "cell_type": "code",
   "execution_count": 15,
   "id": "bf702d5d-2602-4256-bae3-9f3a6bde4d96",
   "metadata": {},
   "outputs": [
    {
     "data": {
      "text/plain": [
       "['life', 'is']"
      ]
     },
     "execution_count": 15,
     "metadata": {},
     "output_type": "execute_result"
    }
   ],
   "source": [
    "### 삼중 리스트에서 인덱싱하기\n",
    "a = [1, 2, ['a', 'b', ['life', 'is']]]\n",
    "\n",
    "a[2][2]"
   ]
  },
  {
   "cell_type": "code",
   "execution_count": 16,
   "id": "8bebfd8b-3f2b-48af-aa7d-9a53c086e51e",
   "metadata": {},
   "outputs": [
    {
     "data": {
      "text/plain": [
       "'life'"
      ]
     },
     "execution_count": 16,
     "metadata": {},
     "output_type": "execute_result"
    }
   ],
   "source": [
    "a[2][2][0]"
   ]
  },
  {
   "cell_type": "markdown",
   "id": "c8f76a1b-67c8-4be7-80d5-bb9484dc96b6",
   "metadata": {},
   "source": [
    "#### 리스트의 슬라이싱"
   ]
  },
  {
   "cell_type": "code",
   "execution_count": 18,
   "id": "8a7cd94d-beb7-4b25-ab65-fc773d7f7663",
   "metadata": {},
   "outputs": [],
   "source": [
    "### 리스트의 슬라이싱\n",
    "\n",
    "a = [1,2,3,4,5]"
   ]
  },
  {
   "cell_type": "code",
   "execution_count": 19,
   "id": "2a82db6c-5a47-4eff-94f9-01b1df90810f",
   "metadata": {},
   "outputs": [
    {
     "data": {
      "text/plain": [
       "[1, 2]"
      ]
     },
     "execution_count": 19,
     "metadata": {},
     "output_type": "execute_result"
    }
   ],
   "source": [
    "a[0:2]"
   ]
  },
  {
   "cell_type": "code",
   "execution_count": 21,
   "id": "b6a8d8b1-eeba-4721-abc4-7ed3c8a50c74",
   "metadata": {},
   "outputs": [],
   "source": [
    "a = [1,2,3,4,5]\n",
    "b= a[0:2]\n",
    "c = a[2:]"
   ]
  },
  {
   "cell_type": "code",
   "execution_count": 22,
   "id": "5841f1ab-a161-4f45-8791-1ad2135aefc2",
   "metadata": {},
   "outputs": [
    {
     "data": {
      "text/plain": [
       "([1, 2], [3, 4, 5])"
      ]
     },
     "execution_count": 22,
     "metadata": {},
     "output_type": "execute_result"
    }
   ],
   "source": [
    "b, c"
   ]
  },
  {
   "cell_type": "code",
   "execution_count": 23,
   "id": "8d4d5a2d-ae66-4cd6-992c-3289a03d1587",
   "metadata": {},
   "outputs": [
    {
     "data": {
      "text/plain": [
       "[3, ['a', 'b', 'c'], 4]"
      ]
     },
     "execution_count": 23,
     "metadata": {},
     "output_type": "execute_result"
    }
   ],
   "source": [
    "### 중첩된 리스트에서 슬라이싱하기\n",
    "\n",
    "a = [1,2,3,['a', 'b', 'c'], 4,5]\n",
    "\n",
    "a[2:5]"
   ]
  },
  {
   "cell_type": "code",
   "execution_count": 24,
   "id": "aab6cba9-2783-4aac-8ba4-99d36803140d",
   "metadata": {},
   "outputs": [
    {
     "data": {
      "text/plain": [
       "['a', 'b']"
      ]
     },
     "execution_count": 24,
     "metadata": {},
     "output_type": "execute_result"
    }
   ],
   "source": [
    "a[3][:2]"
   ]
  },
  {
   "cell_type": "code",
   "execution_count": 26,
   "id": "21f113b0-8c8e-4122-97df-dffbb325e5cf",
   "metadata": {},
   "outputs": [
    {
     "data": {
      "text/plain": [
       "['b', 'c']"
      ]
     },
     "execution_count": 26,
     "metadata": {},
     "output_type": "execute_result"
    }
   ],
   "source": [
    "a[3][1:]"
   ]
  },
  {
   "cell_type": "markdown",
   "id": "7c4fd2a1-7fa3-4e86-b49a-4be07b41eac8",
   "metadata": {},
   "source": [
    "#### 리스트 관련 함수"
   ]
  },
  {
   "cell_type": "code",
   "execution_count": 28,
   "id": "3508710e-800f-4e80-aa02-234fcbbc5fb7",
   "metadata": {},
   "outputs": [
    {
     "data": {
      "text/plain": [
       "[1, 2, 3]"
      ]
     },
     "execution_count": 28,
     "metadata": {},
     "output_type": "execute_result"
    }
   ],
   "source": [
    "### 리스트에 요소 추가하기 - append\n",
    "\n",
    "a = [1,2,3]\n",
    "a"
   ]
  },
  {
   "cell_type": "code",
   "execution_count": 29,
   "id": "6650106a-4f35-4cb8-b714-b4a374170fae",
   "metadata": {},
   "outputs": [
    {
     "data": {
      "text/plain": [
       "[1, 2, 3, 4]"
      ]
     },
     "execution_count": 29,
     "metadata": {},
     "output_type": "execute_result"
    }
   ],
   "source": [
    "a.append(4)\n",
    "a"
   ]
  },
  {
   "cell_type": "code",
   "execution_count": 30,
   "id": "770aa3ae-fddc-411a-909d-bac3216acf40",
   "metadata": {},
   "outputs": [
    {
     "data": {
      "text/plain": [
       "[1, 2, 3, 4]"
      ]
     },
     "execution_count": 30,
     "metadata": {},
     "output_type": "execute_result"
    }
   ],
   "source": [
    "### 리스트 정렬 - sort\n",
    "a = [1,2,4,3]\n",
    "a.sort()\n",
    "a"
   ]
  },
  {
   "cell_type": "code",
   "execution_count": 31,
   "id": "cdca63da-992d-4826-ac63-3251c686f845",
   "metadata": {},
   "outputs": [],
   "source": [
    "a.sort(reverse=True)"
   ]
  },
  {
   "cell_type": "code",
   "execution_count": 32,
   "id": "3a2d62c5-4049-4c53-9acf-2d58a57688f3",
   "metadata": {},
   "outputs": [
    {
     "data": {
      "text/plain": [
       "[4, 3, 2, 1]"
      ]
     },
     "execution_count": 32,
     "metadata": {},
     "output_type": "execute_result"
    }
   ],
   "source": [
    "a"
   ]
  },
  {
   "cell_type": "code",
   "execution_count": 33,
   "id": "454eb357-75f6-47ba-947f-28b0c0ba3f60",
   "metadata": {},
   "outputs": [],
   "source": [
    "### 리스트 뒤집기 - reverse\n",
    "\n",
    "a = ['a', 'c', 'b']\n",
    "a.reverse()"
   ]
  },
  {
   "cell_type": "code",
   "execution_count": 34,
   "id": "5a2bb6aa-d47a-4cf7-b091-7aeca7d299dc",
   "metadata": {},
   "outputs": [
    {
     "data": {
      "text/plain": [
       "['b', 'c', 'a']"
      ]
     },
     "execution_count": 34,
     "metadata": {},
     "output_type": "execute_result"
    }
   ],
   "source": [
    "a"
   ]
  },
  {
   "cell_type": "code",
   "execution_count": 35,
   "id": "d04c043c-78c4-47b8-93d3-66f945a3555e",
   "metadata": {},
   "outputs": [
    {
     "data": {
      "text/plain": [
       "2"
      ]
     },
     "execution_count": 35,
     "metadata": {},
     "output_type": "execute_result"
    }
   ],
   "source": [
    "### 인덱스 반환 - index\n",
    "\n",
    "a = [1, 2, 3]\n",
    "a.index(3)"
   ]
  },
  {
   "cell_type": "code",
   "execution_count": 37,
   "id": "216040e0-dd41-49bd-9376-4640985b9f8d",
   "metadata": {},
   "outputs": [],
   "source": [
    "### index와 find의 차이는?\n",
    "### index는 요소가 없는 경우 Error를 표시하지만, find는 Error 표기 하지 않고 진행"
   ]
  },
  {
   "cell_type": "code",
   "execution_count": 38,
   "id": "db737591-7d7d-43ec-9364-b8e5af255577",
   "metadata": {},
   "outputs": [],
   "source": [
    "### 리스트에 요소 삽입 - insert\n",
    "\n",
    "a = [1, 2, 3]\n",
    "a.insert(0,4)"
   ]
  },
  {
   "cell_type": "code",
   "execution_count": 39,
   "id": "f335fc3e-3a44-4490-b578-5315aa634d1d",
   "metadata": {},
   "outputs": [
    {
     "data": {
      "text/plain": [
       "[4, 1, 2, 3]"
      ]
     },
     "execution_count": 39,
     "metadata": {},
     "output_type": "execute_result"
    }
   ],
   "source": [
    "a"
   ]
  },
  {
   "cell_type": "code",
   "execution_count": 40,
   "id": "3c0fbde2-298c-4b0a-a2d7-8b8284859f46",
   "metadata": {},
   "outputs": [],
   "source": [
    "a.insert(3,5)"
   ]
  },
  {
   "cell_type": "code",
   "execution_count": 41,
   "id": "24c92e79-ed88-420c-8247-88b8dc6ccbbb",
   "metadata": {},
   "outputs": [
    {
     "data": {
      "text/plain": [
       "[4, 1, 2, 5, 3]"
      ]
     },
     "execution_count": 41,
     "metadata": {},
     "output_type": "execute_result"
    }
   ],
   "source": [
    "a"
   ]
  },
  {
   "cell_type": "code",
   "execution_count": 42,
   "id": "341cd3b2-2730-4701-9631-68ad85d2c061",
   "metadata": {},
   "outputs": [
    {
     "data": {
      "text/plain": [
       "[1, 2, 3, 1, 2, 3]"
      ]
     },
     "execution_count": 42,
     "metadata": {},
     "output_type": "execute_result"
    }
   ],
   "source": [
    "### 리스트 요소 제거 - remove\n",
    "### remove(x)는 리스트에서 첫 번째로 나오는 x를 삭제\n",
    "\n",
    "a = [1,2,3,1,2,3]\n",
    "a"
   ]
  },
  {
   "cell_type": "code",
   "execution_count": 43,
   "id": "bf89b94e-c632-4dd4-969b-42de43e8ad74",
   "metadata": {},
   "outputs": [
    {
     "data": {
      "text/plain": [
       "[1, 2, 1, 2, 3]"
      ]
     },
     "execution_count": 43,
     "metadata": {},
     "output_type": "execute_result"
    }
   ],
   "source": [
    "a.remove(3)\n",
    "a"
   ]
  },
  {
   "cell_type": "code",
   "execution_count": 44,
   "id": "ecb7e6f2-0595-4095-94fe-d6f03e8dac7a",
   "metadata": {},
   "outputs": [
    {
     "data": {
      "text/plain": [
       "3"
      ]
     },
     "execution_count": 44,
     "metadata": {},
     "output_type": "execute_result"
    }
   ],
   "source": [
    "### 리스트 요소 끄집어 내기 - pop\n",
    "a = [1,2,3]\n",
    "a.pop()\n",
    "3"
   ]
  },
  {
   "cell_type": "code",
   "execution_count": 45,
   "id": "1a5472df-ac12-4788-8601-8d164826699f",
   "metadata": {},
   "outputs": [
    {
     "data": {
      "text/plain": [
       "[1, 2]"
      ]
     },
     "execution_count": 45,
     "metadata": {},
     "output_type": "execute_result"
    }
   ],
   "source": [
    "a"
   ]
  },
  {
   "cell_type": "code",
   "execution_count": 46,
   "id": "28222f36-1f1e-4fab-a7ba-8f7cb41461cd",
   "metadata": {},
   "outputs": [
    {
     "data": {
      "text/plain": [
       "2"
      ]
     },
     "execution_count": 46,
     "metadata": {},
     "output_type": "execute_result"
    }
   ],
   "source": [
    "### 리스트에 포함된 요소 x의 개수 세기 - count\n",
    "### count(x)는 리스트 안에 x가 몇 개 있는지 조사하여 그 개수를 리턴하는 함수\n",
    "\n",
    "a = [1,2,3,1]\n",
    "a.count(1)"
   ]
  },
  {
   "cell_type": "code",
   "execution_count": 49,
   "id": "24bdb0c8-dcfc-42cd-b637-19a7ac9723ff",
   "metadata": {},
   "outputs": [
    {
     "data": {
      "text/plain": [
       "[1, 2, 3, 4, 5]"
      ]
     },
     "execution_count": 49,
     "metadata": {},
     "output_type": "execute_result"
    }
   ],
   "source": [
    "### 리스트 확장 - extend\n",
    "### extend(x)에서 x에는 리스트만 올 수 있으며 원래의 a 리스트에 x 리스트를 더하게 된다\n",
    "\n",
    "a = [1,2,3]\n",
    "b = [4,5]\n",
    "a.extend(b)\n",
    "a"
   ]
  },
  {
   "cell_type": "code",
   "execution_count": 51,
   "id": "896aa7a4-427c-4ba3-965e-ec39910dd83a",
   "metadata": {},
   "outputs": [
    {
     "data": {
      "text/plain": [
       "([1, 2, 3], [6, 7])"
      ]
     },
     "execution_count": 51,
     "metadata": {},
     "output_type": "execute_result"
    }
   ],
   "source": [
    "### extend() 는 +=[]와 동일\n",
    "### a.extend([4,5]) -> a += [4,5]\n",
    "\n",
    "a = [1, 2, 3]\n",
    "b = [6, 7]\n",
    "\n",
    "a, b"
   ]
  },
  {
   "cell_type": "code",
   "execution_count": 52,
   "id": "368c6b73-2d0f-470f-b612-1e59974ef2a6",
   "metadata": {},
   "outputs": [
    {
     "data": {
      "text/plain": [
       "[1, 2, 3, 6, 7]"
      ]
     },
     "execution_count": 52,
     "metadata": {},
     "output_type": "execute_result"
    }
   ],
   "source": [
    "a += b\n",
    "\n",
    "a"
   ]
  },
  {
   "cell_type": "markdown",
   "id": "d2bf1002-8c34-42b9-a367-40509001a24e",
   "metadata": {},
   "source": [
    "## 튜플 자료형"
   ]
  },
  {
   "cell_type": "markdown",
   "id": "5d72ac9f-cc2f-40c0-80b2-92c8fc8bf427",
   "metadata": {},
   "source": [
    "#### 튜플 객체"
   ]
  },
  {
   "cell_type": "code",
   "execution_count": 53,
   "id": "d81806c6-9412-4408-a1b3-42f361a1f099",
   "metadata": {},
   "outputs": [
    {
     "data": {
      "text/plain": [
       "((), (1,), (1, 2, 3), (1, 2, 3), ('a', 'b', ('ab', 'cd')))"
      ]
     },
     "execution_count": 53,
     "metadata": {},
     "output_type": "execute_result"
    }
   ],
   "source": [
    "t1 = ()\n",
    "t2 = (1,)\n",
    "t3 = (1, 2, 3)\n",
    "t4 = 1, 2, 3\n",
    "t5 = ('a', 'b', ('ab', 'cd'))\n",
    "\n",
    "t1, t2, t3, t4, t5"
   ]
  },
  {
   "cell_type": "code",
   "execution_count": 54,
   "id": "47811799-d85d-4e42-80a4-baad7a346f12",
   "metadata": {},
   "outputs": [
    {
     "data": {
      "text/plain": [
       "tuple"
      ]
     },
     "execution_count": 54,
     "metadata": {},
     "output_type": "execute_result"
    }
   ],
   "source": [
    "type(t1)"
   ]
  },
  {
   "cell_type": "code",
   "execution_count": 56,
   "id": "c8563efd-f006-425b-9f9c-73d0770639ea",
   "metadata": {},
   "outputs": [
    {
     "data": {
      "text/plain": [
       "(int, tuple)"
      ]
     },
     "execution_count": 56,
     "metadata": {},
     "output_type": "execute_result"
    }
   ],
   "source": [
    "type((1)), type((1,))"
   ]
  },
  {
   "cell_type": "code",
   "execution_count": 58,
   "id": "d30f8057-e2b0-43e9-8c4e-f93ab9e8d0da",
   "metadata": {},
   "outputs": [
    {
     "data": {
      "text/plain": [
       "(1, 2, 'a', 'b')"
      ]
     },
     "execution_count": 58,
     "metadata": {},
     "output_type": "execute_result"
    }
   ],
   "source": [
    "### 튜플의 요솟값은 한 번 정하면 지우거나 변경할 수 없다\n",
    "\n",
    "t1 = (1,2, 'a', 'b')\n",
    "t1"
   ]
  },
  {
   "cell_type": "code",
   "execution_count": 59,
   "id": "fe18f5c2-0a9e-47d3-9c49-74b8698ffa1e",
   "metadata": {},
   "outputs": [
    {
     "ename": "TypeError",
     "evalue": "'tuple' object doesn't support item deletion",
     "output_type": "error",
     "traceback": [
      "\u001b[1;31m---------------------------------------------------------------------------\u001b[0m",
      "\u001b[1;31mTypeError\u001b[0m                                 Traceback (most recent call last)",
      "Cell \u001b[1;32mIn[59], line 1\u001b[0m\n\u001b[1;32m----> 1\u001b[0m \u001b[38;5;28;01mdel\u001b[39;00m \u001b[43mt1\u001b[49m\u001b[43m[\u001b[49m\u001b[38;5;241;43m0\u001b[39;49m\u001b[43m]\u001b[49m\n",
      "\u001b[1;31mTypeError\u001b[0m: 'tuple' object doesn't support item deletion"
     ]
    }
   ],
   "source": [
    "del t1[0]"
   ]
  },
  {
   "cell_type": "code",
   "execution_count": 60,
   "id": "1aa262f7-4dc2-49df-b7d1-8dd681c6f28f",
   "metadata": {},
   "outputs": [
    {
     "data": {
      "text/plain": [
       "1"
      ]
     },
     "execution_count": 60,
     "metadata": {},
     "output_type": "execute_result"
    }
   ],
   "source": [
    "t1[0]"
   ]
  },
  {
   "cell_type": "code",
   "execution_count": 61,
   "id": "f5a2578a-3315-4fd1-be30-dad91e506c0c",
   "metadata": {},
   "outputs": [
    {
     "ename": "TypeError",
     "evalue": "'tuple' object does not support item assignment",
     "output_type": "error",
     "traceback": [
      "\u001b[1;31m---------------------------------------------------------------------------\u001b[0m",
      "\u001b[1;31mTypeError\u001b[0m                                 Traceback (most recent call last)",
      "Cell \u001b[1;32mIn[61], line 1\u001b[0m\n\u001b[1;32m----> 1\u001b[0m \u001b[43mt1\u001b[49m\u001b[43m[\u001b[49m\u001b[38;5;241;43m0\u001b[39;49m\u001b[43m]\u001b[49m \u001b[38;5;241m=\u001b[39m \u001b[38;5;124m'\u001b[39m\u001b[38;5;124mc\u001b[39m\u001b[38;5;124m'\u001b[39m\n",
      "\u001b[1;31mTypeError\u001b[0m: 'tuple' object does not support item assignment"
     ]
    }
   ],
   "source": [
    "t1[0] = 'c'"
   ]
  },
  {
   "cell_type": "markdown",
   "id": "52fd3811-8dd1-402a-a109-d2f64d439e10",
   "metadata": {},
   "source": [
    "### 튜플 다루기"
   ]
  },
  {
   "cell_type": "markdown",
   "id": "cc5e129a-0c64-4605-a927-942eeb0af5d6",
   "metadata": {},
   "source": [
    "#### 인덱싱하기"
   ]
  },
  {
   "cell_type": "code",
   "execution_count": 62,
   "id": "0c176591-e47e-4357-918c-120184b91ae0",
   "metadata": {},
   "outputs": [
    {
     "data": {
      "text/plain": [
       "1"
      ]
     },
     "execution_count": 62,
     "metadata": {},
     "output_type": "execute_result"
    }
   ],
   "source": [
    "t1 = (1, 2, 'a', 'b')\n",
    "t1[0]"
   ]
  },
  {
   "cell_type": "code",
   "execution_count": 63,
   "id": "873fb17e-d7f8-402d-9069-be7a4b66ea68",
   "metadata": {},
   "outputs": [
    {
     "data": {
      "text/plain": [
       "'b'"
      ]
     },
     "execution_count": 63,
     "metadata": {},
     "output_type": "execute_result"
    }
   ],
   "source": [
    "t1[3]"
   ]
  },
  {
   "cell_type": "markdown",
   "id": "8594a757-9063-496a-a64a-e96ed09e8d63",
   "metadata": {},
   "source": [
    "#### 슬라이싱하기"
   ]
  },
  {
   "cell_type": "code",
   "execution_count": 64,
   "id": "5e5dd08d-40f2-49f7-8b6b-eae0e94121b2",
   "metadata": {},
   "outputs": [
    {
     "data": {
      "text/plain": [
       "(2, 'a', 'b')"
      ]
     },
     "execution_count": 64,
     "metadata": {},
     "output_type": "execute_result"
    }
   ],
   "source": [
    "t1 = (1,2,'a', 'b')\n",
    "t1[1:]"
   ]
  },
  {
   "cell_type": "markdown",
   "id": "f5b4b53a-5ef8-41c9-8c81-e8b00e5a07c1",
   "metadata": {},
   "source": [
    "### 튜플 관련 함수"
   ]
  },
  {
   "cell_type": "code",
   "execution_count": 65,
   "id": "a485d7cc-e10d-4d6a-a8ff-2d7d0f2d3bde",
   "metadata": {},
   "outputs": [],
   "source": [
    "### 듀플 더하기\n",
    "t1 = (1,2,'a','b')\n",
    "t2 = (3,4)\n",
    "t3 = t1 + t2"
   ]
  },
  {
   "cell_type": "code",
   "execution_count": 66,
   "id": "0537c0c5-c6f3-41c5-b965-d98a2c9e1552",
   "metadata": {},
   "outputs": [
    {
     "data": {
      "text/plain": [
       "(1, 2, 'a', 'b', 3, 4)"
      ]
     },
     "execution_count": 66,
     "metadata": {},
     "output_type": "execute_result"
    }
   ],
   "source": [
    "t3"
   ]
  },
  {
   "cell_type": "code",
   "execution_count": 67,
   "id": "a6854670-4e03-45b1-8b70-63123c0f9202",
   "metadata": {},
   "outputs": [],
   "source": [
    "### 튜플 곱하기\n",
    "\n",
    "t2 = (3,4)\n",
    "t3 = t2 * 3"
   ]
  },
  {
   "cell_type": "code",
   "execution_count": 68,
   "id": "e65ccf6a-5ce1-41b9-b6ab-a8f2ca06942e",
   "metadata": {},
   "outputs": [
    {
     "data": {
      "text/plain": [
       "(3, 4, 3, 4, 3, 4)"
      ]
     },
     "execution_count": 68,
     "metadata": {},
     "output_type": "execute_result"
    }
   ],
   "source": [
    "t3"
   ]
  },
  {
   "cell_type": "code",
   "execution_count": 69,
   "id": "27328404-6324-4fe6-8305-32dc52b93313",
   "metadata": {},
   "outputs": [
    {
     "data": {
      "text/plain": [
       "(1, 2, 'a', 'b')"
      ]
     },
     "execution_count": 69,
     "metadata": {},
     "output_type": "execute_result"
    }
   ],
   "source": [
    "### 튜플 길이 구하기\n",
    "t1 = (1, 2, 'a', 'b')\n",
    "t1"
   ]
  },
  {
   "cell_type": "code",
   "execution_count": 70,
   "id": "8391c969-78e8-445d-ab56-bb7ac8de96f5",
   "metadata": {},
   "outputs": [
    {
     "data": {
      "text/plain": [
       "4"
      ]
     },
     "execution_count": 70,
     "metadata": {},
     "output_type": "execute_result"
    }
   ],
   "source": [
    "len(t1)"
   ]
  },
  {
   "cell_type": "markdown",
   "id": "8778cb86-93a1-4260-bac2-9a847adbd510",
   "metadata": {},
   "source": [
    "## 딕셔너리 자료형"
   ]
  },
  {
   "cell_type": "code",
   "execution_count": 73,
   "id": "4b16f53c-2c1b-4b0a-a10d-758dc97e0253",
   "metadata": {},
   "outputs": [],
   "source": [
    "### 딕셔너리 생성\n",
    "\n",
    "dic = {'name': 'pey', 'phone': '010-9999-1234', 'birth': '1118'}  "
   ]
  },
  {
   "cell_type": "code",
   "execution_count": 74,
   "id": "fcd2c860-39fa-4492-a7e9-47372c67aec2",
   "metadata": {},
   "outputs": [
    {
     "data": {
      "text/plain": [
       "{'name': 'pey', 'phone': '010-9999-1234', 'birth': '1118'}"
      ]
     },
     "execution_count": 74,
     "metadata": {},
     "output_type": "execute_result"
    }
   ],
   "source": [
    "dic"
   ]
  },
  {
   "cell_type": "markdown",
   "id": "ec4a7ddb-2a7c-4d35-a020-d9c4a94849dd",
   "metadata": {},
   "source": [
    "### 딕셔너리 쌍 추가, 삭제하기"
   ]
  },
  {
   "cell_type": "code",
   "execution_count": 80,
   "id": "b7786f7c-84cb-4ea8-93b6-fa73df1befec",
   "metadata": {},
   "outputs": [],
   "source": [
    "### 딕셔너리 쌍 추가하기\n",
    "a = {1:'a'}\n",
    "a[2] = 'b'"
   ]
  },
  {
   "cell_type": "code",
   "execution_count": 79,
   "id": "a25fad94-3a4a-44ef-b935-b4a2e4e8861f",
   "metadata": {},
   "outputs": [
    {
     "data": {
      "text/plain": [
       "{1: 'a', 2: 'b'}"
      ]
     },
     "execution_count": 79,
     "metadata": {},
     "output_type": "execute_result"
    }
   ],
   "source": [
    "a"
   ]
  },
  {
   "cell_type": "code",
   "execution_count": 81,
   "id": "4e3bd68b-f84b-483b-b0b7-e65fc85e029d",
   "metadata": {},
   "outputs": [
    {
     "data": {
      "text/plain": [
       "{1: 'a', 2: 'b', 'name': 'pey'}"
      ]
     },
     "execution_count": 81,
     "metadata": {},
     "output_type": "execute_result"
    }
   ],
   "source": [
    "a['name'] = 'pey'\n",
    "a"
   ]
  },
  {
   "cell_type": "code",
   "execution_count": 82,
   "id": "8f943d5a-23f4-496c-872a-eb8467288bb2",
   "metadata": {},
   "outputs": [],
   "source": [
    "a[3] = [1,2,3]"
   ]
  },
  {
   "cell_type": "code",
   "execution_count": 83,
   "id": "523aa3b2-7fa5-4214-89b5-494d6b91077e",
   "metadata": {},
   "outputs": [
    {
     "data": {
      "text/plain": [
       "{1: 'a', 2: 'b', 'name': 'pey', 3: [1, 2, 3]}"
      ]
     },
     "execution_count": 83,
     "metadata": {},
     "output_type": "execute_result"
    }
   ],
   "source": [
    "a"
   ]
  },
  {
   "cell_type": "code",
   "execution_count": 84,
   "id": "916dc072-3ca4-4c7b-9831-dc2237bc3a8c",
   "metadata": {},
   "outputs": [
    {
     "data": {
      "text/plain": [
       "{2: 'b', 'name': 'pey', 3: [1, 2, 3]}"
      ]
     },
     "execution_count": 84,
     "metadata": {},
     "output_type": "execute_result"
    }
   ],
   "source": [
    "### 딕셔너리 요소 삭제\n",
    "\n",
    "del a[1]\n",
    "a"
   ]
  },
  {
   "cell_type": "code",
   "execution_count": 85,
   "id": "1f251a71-37ed-4bf8-acef-e7d44eaf098d",
   "metadata": {},
   "outputs": [],
   "source": [
    "del a[3]"
   ]
  },
  {
   "cell_type": "code",
   "execution_count": 86,
   "id": "e2657715-c1d9-440e-9781-89a272ba46ac",
   "metadata": {},
   "outputs": [
    {
     "data": {
      "text/plain": [
       "{2: 'b', 'name': 'pey'}"
      ]
     },
     "execution_count": 86,
     "metadata": {},
     "output_type": "execute_result"
    }
   ],
   "source": [
    "a"
   ]
  },
  {
   "cell_type": "markdown",
   "id": "d9a17ded-bc5c-4ff0-bfff-6a3defdb1106",
   "metadata": {},
   "source": [
    "### 딕셔너리 사용 방법"
   ]
  },
  {
   "cell_type": "code",
   "execution_count": 87,
   "id": "9e3edcde-fbcf-453a-a46b-0fa285e2038a",
   "metadata": {},
   "outputs": [
    {
     "data": {
      "text/plain": [
       "{'pey': 10, 'julliet': 99}"
      ]
     },
     "execution_count": 87,
     "metadata": {},
     "output_type": "execute_result"
    }
   ],
   "source": [
    "### 딕셔너리에 key를 사용해 value 얻기\n",
    "\n",
    "grade = {'pey': 10, 'julliet': 99}\n",
    "grade"
   ]
  },
  {
   "cell_type": "code",
   "execution_count": 88,
   "id": "44d68c37-323e-4c99-9ce9-17dc1286f0ed",
   "metadata": {},
   "outputs": [
    {
     "data": {
      "text/plain": [
       "10"
      ]
     },
     "execution_count": 88,
     "metadata": {},
     "output_type": "execute_result"
    }
   ],
   "source": [
    "grade['pey']"
   ]
  },
  {
   "cell_type": "code",
   "execution_count": 92,
   "id": "867c4231-3a8c-4fa0-888a-0b56437f99f9",
   "metadata": {},
   "outputs": [
    {
     "data": {
      "text/plain": [
       "{'pey': 10, 'julliet': 99, 'park': 89}"
      ]
     },
     "execution_count": 92,
     "metadata": {},
     "output_type": "execute_result"
    }
   ],
   "source": [
    "grade['park'] = 89\n",
    "grade"
   ]
  },
  {
   "cell_type": "markdown",
   "id": "1f608238-c236-4ae7-ac50-53ef2184f65d",
   "metadata": {},
   "source": [
    "### 딕셔너리 관련 함수"
   ]
  },
  {
   "cell_type": "code",
   "execution_count": 93,
   "id": "866c4ebb-fefe-43b9-8e3a-33e16f3f6357",
   "metadata": {},
   "outputs": [
    {
     "data": {
      "text/plain": [
       "dict_keys(['name', 'phone', 'birth'])"
      ]
     },
     "execution_count": 93,
     "metadata": {},
     "output_type": "execute_result"
    }
   ],
   "source": [
    "### Key 리스트 만들기 - keys\n",
    "\n",
    "a = {'name': 'pey', 'phone': '010-9999-1234', 'birth': '1118'}\n",
    "a.keys()"
   ]
  },
  {
   "cell_type": "code",
   "execution_count": 96,
   "id": "bf29f00e-df8a-47a5-8a3a-dc7d570d6a35",
   "metadata": {},
   "outputs": [
    {
     "name": "stdout",
     "output_type": "stream",
     "text": [
      "name\n",
      "phone\n",
      "birth\n"
     ]
    }
   ],
   "source": [
    "for k in a.keys():\n",
    "    print(k)"
   ]
  },
  {
   "cell_type": "code",
   "execution_count": 97,
   "id": "ba1731b2-e69e-4717-af2d-c32908291533",
   "metadata": {},
   "outputs": [
    {
     "data": {
      "text/plain": [
       "['name', 'phone', 'birth']"
      ]
     },
     "execution_count": 97,
     "metadata": {},
     "output_type": "execute_result"
    }
   ],
   "source": [
    "list(a.keys())"
   ]
  },
  {
   "cell_type": "code",
   "execution_count": 98,
   "id": "b13249f7-b156-4f62-9da1-b2c766092bf0",
   "metadata": {},
   "outputs": [
    {
     "data": {
      "text/plain": [
       "dict_values(['pey', '010-9999-1234', '1118'])"
      ]
     },
     "execution_count": 98,
     "metadata": {},
     "output_type": "execute_result"
    }
   ],
   "source": [
    "### Value 리스트 만들기 - values\n",
    "a.values()"
   ]
  },
  {
   "cell_type": "code",
   "execution_count": 99,
   "id": "2534ba5f-60e1-4167-828b-a8a7add421e1",
   "metadata": {},
   "outputs": [
    {
     "data": {
      "text/plain": [
       "dict_items([('name', 'pey'), ('phone', '010-9999-1234'), ('birth', '1118')])"
      ]
     },
     "execution_count": 99,
     "metadata": {},
     "output_type": "execute_result"
    }
   ],
   "source": [
    "### key, value 쌍으로 얻기 - items\n",
    "a.items()"
   ]
  },
  {
   "cell_type": "code",
   "execution_count": 100,
   "id": "2f9e17c6-9e68-452c-b81d-ef1f35bb3710",
   "metadata": {},
   "outputs": [
    {
     "data": {
      "text/plain": [
       "{}"
      ]
     },
     "execution_count": 100,
     "metadata": {},
     "output_type": "execute_result"
    }
   ],
   "source": [
    "### key:value 쌍 모두 지우기 - clear\n",
    "\n",
    "a.clear()\n",
    "\n",
    "a"
   ]
  },
  {
   "cell_type": "code",
   "execution_count": 101,
   "id": "ef259070-8d70-47b6-a86b-f1aab7f48152",
   "metadata": {},
   "outputs": [],
   "source": [
    "### key로 value 얻기 - get\n",
    "\n",
    "a = {'name': 'pey', 'phone': '010-9999-1234', 'birth': '1118'}"
   ]
  },
  {
   "cell_type": "code",
   "execution_count": 102,
   "id": "c63427be-4069-4d4c-aa40-fe99d1279da2",
   "metadata": {},
   "outputs": [
    {
     "data": {
      "text/plain": [
       "{'name': 'pey', 'phone': '010-9999-1234', 'birth': '1118'}"
      ]
     },
     "execution_count": 102,
     "metadata": {},
     "output_type": "execute_result"
    }
   ],
   "source": [
    "a"
   ]
  },
  {
   "cell_type": "code",
   "execution_count": 103,
   "id": "9bb7e0c1-9e03-4677-b0bb-3105fd117f0b",
   "metadata": {},
   "outputs": [
    {
     "data": {
      "text/plain": [
       "'pey'"
      ]
     },
     "execution_count": 103,
     "metadata": {},
     "output_type": "execute_result"
    }
   ],
   "source": [
    "a.get('name')"
   ]
  },
  {
   "cell_type": "code",
   "execution_count": 104,
   "id": "93a096f2-6e2d-4310-b21d-439406ecf610",
   "metadata": {},
   "outputs": [
    {
     "data": {
      "text/plain": [
       "True"
      ]
     },
     "execution_count": 104,
     "metadata": {},
     "output_type": "execute_result"
    }
   ],
   "source": [
    "### 해당 key가 딕셔너리 안에 있는지 조사하기 - in\n",
    "a = {'name': 'pey', 'phone': '010-9999-1234', 'birth': '1118'}\n",
    "\n",
    "'name' in a"
   ]
  },
  {
   "cell_type": "code",
   "execution_count": 105,
   "id": "985beba0-5261-46f2-ab8d-5eeab63d2368",
   "metadata": {},
   "outputs": [
    {
     "data": {
      "text/plain": [
       "False"
      ]
     },
     "execution_count": 105,
     "metadata": {},
     "output_type": "execute_result"
    }
   ],
   "source": [
    "'email' in a"
   ]
  },
  {
   "cell_type": "markdown",
   "id": "903741d5-63b4-41e4-9615-3718982a78b2",
   "metadata": {},
   "source": [
    "## 집합 자료형"
   ]
  },
  {
   "cell_type": "code",
   "execution_count": 106,
   "id": "89f5176b-f97e-4f21-812e-f2f99a690738",
   "metadata": {},
   "outputs": [
    {
     "data": {
      "text/plain": [
       "{1, 2, 3}"
      ]
     },
     "execution_count": 106,
     "metadata": {},
     "output_type": "execute_result"
    }
   ],
   "source": [
    "s1 = set([1,2,3])\n",
    "s1"
   ]
  },
  {
   "cell_type": "code",
   "execution_count": 107,
   "id": "f91161d7-86d5-4d33-9684-4ada64702197",
   "metadata": {},
   "outputs": [
    {
     "data": {
      "text/plain": [
       "({'H', 'e', 'l', 'o'}, set)"
      ]
     },
     "execution_count": 107,
     "metadata": {},
     "output_type": "execute_result"
    }
   ],
   "source": [
    "s2 = set(\"Hello\")\n",
    "s2, type(s2)"
   ]
  },
  {
   "cell_type": "code",
   "execution_count": 108,
   "id": "037be3fd-41c8-4cde-9569-c2a30f7fcb54",
   "metadata": {},
   "outputs": [
    {
     "data": {
      "text/plain": [
       "[1, 2, 3]"
      ]
     },
     "execution_count": 108,
     "metadata": {},
     "output_type": "execute_result"
    }
   ],
   "source": [
    "s1 = set([1,2,3])\n",
    "l1 = list(s1)\n",
    "l1"
   ]
  },
  {
   "cell_type": "code",
   "execution_count": 109,
   "id": "a7f62ba3-a2ac-4974-b64a-a80fe2cc42ce",
   "metadata": {},
   "outputs": [
    {
     "data": {
      "text/plain": [
       "list"
      ]
     },
     "execution_count": 109,
     "metadata": {},
     "output_type": "execute_result"
    }
   ],
   "source": [
    "type(l1)"
   ]
  },
  {
   "cell_type": "markdown",
   "id": "db9dedfa-2ef7-4b9b-a2aa-a74d751b8317",
   "metadata": {},
   "source": [
    "#### 교집합, 합집합, 차집합 구히기"
   ]
  },
  {
   "cell_type": "code",
   "execution_count": 110,
   "id": "a68c5ee0-5db7-43b4-8304-606c0abee93b",
   "metadata": {},
   "outputs": [],
   "source": [
    "s1 = set([1, 2, 3, 4, 5, 6])\n",
    "s2 = set([4, 5, 6, 7, 8, 9])"
   ]
  },
  {
   "cell_type": "code",
   "execution_count": 111,
   "id": "78c301b1-f998-4b35-bd23-ed731e69c005",
   "metadata": {},
   "outputs": [
    {
     "data": {
      "text/plain": [
       "{4, 5, 6}"
      ]
     },
     "execution_count": 111,
     "metadata": {},
     "output_type": "execute_result"
    }
   ],
   "source": [
    "### 교집합 구하기\n",
    "s1 & s2"
   ]
  },
  {
   "cell_type": "code",
   "execution_count": 112,
   "id": "5a5c1ba0-6f7c-478d-affe-a3423f61b47e",
   "metadata": {},
   "outputs": [
    {
     "data": {
      "text/plain": [
       "{4, 5, 6}"
      ]
     },
     "execution_count": 112,
     "metadata": {},
     "output_type": "execute_result"
    }
   ],
   "source": [
    "s1.intersection(s2)"
   ]
  },
  {
   "cell_type": "code",
   "execution_count": 113,
   "id": "f076708d-6864-4d00-a1ba-640eb94ed075",
   "metadata": {},
   "outputs": [
    {
     "data": {
      "text/plain": [
       "{1, 2, 3, 4, 5, 6, 7, 8, 9}"
      ]
     },
     "execution_count": 113,
     "metadata": {},
     "output_type": "execute_result"
    }
   ],
   "source": [
    "### 합집합 구하기\n",
    "s1 | s2"
   ]
  },
  {
   "cell_type": "code",
   "execution_count": 114,
   "id": "da9bb1ca-7c8a-451d-94b6-608b3a766345",
   "metadata": {},
   "outputs": [
    {
     "data": {
      "text/plain": [
       "{1, 2, 3, 4, 5, 6, 7, 8, 9}"
      ]
     },
     "execution_count": 114,
     "metadata": {},
     "output_type": "execute_result"
    }
   ],
   "source": [
    "s2.union(s1)"
   ]
  },
  {
   "cell_type": "code",
   "execution_count": 115,
   "id": "2dd87662-8914-4a0c-8f73-c7ce09fa6a5e",
   "metadata": {},
   "outputs": [
    {
     "data": {
      "text/plain": [
       "{1, 2, 3, 4, 5, 6, 7, 8, 9}"
      ]
     },
     "execution_count": 115,
     "metadata": {},
     "output_type": "execute_result"
    }
   ],
   "source": [
    "s1.union(s2)"
   ]
  },
  {
   "cell_type": "code",
   "execution_count": 116,
   "id": "fd5d3463-8068-4bee-9d90-2dd9a6cbbad7",
   "metadata": {},
   "outputs": [
    {
     "data": {
      "text/plain": [
       "{1, 2, 3}"
      ]
     },
     "execution_count": 116,
     "metadata": {},
     "output_type": "execute_result"
    }
   ],
   "source": [
    "### 차집합 구하기\n",
    "s1 - s2"
   ]
  },
  {
   "cell_type": "code",
   "execution_count": 117,
   "id": "700c8243-2842-4286-87cd-3136d08422db",
   "metadata": {},
   "outputs": [
    {
     "data": {
      "text/plain": [
       "{1, 2, 3}"
      ]
     },
     "execution_count": 117,
     "metadata": {},
     "output_type": "execute_result"
    }
   ],
   "source": [
    "s1.difference(s2)"
   ]
  },
  {
   "cell_type": "code",
   "execution_count": 118,
   "id": "484f23f0-4c2e-4588-a3fd-a373b3d2368d",
   "metadata": {},
   "outputs": [
    {
     "data": {
      "text/plain": [
       "{7, 8, 9}"
      ]
     },
     "execution_count": 118,
     "metadata": {},
     "output_type": "execute_result"
    }
   ],
   "source": [
    "s2 - s1"
   ]
  },
  {
   "cell_type": "code",
   "execution_count": 119,
   "id": "8c859ce7-3c96-42f2-bc13-e07d0aa5863b",
   "metadata": {},
   "outputs": [
    {
     "data": {
      "text/plain": [
       "{7, 8, 9}"
      ]
     },
     "execution_count": 119,
     "metadata": {},
     "output_type": "execute_result"
    }
   ],
   "source": [
    "s2.difference(s1)"
   ]
  },
  {
   "cell_type": "markdown",
   "id": "6ccd404b-74e3-4669-bb3f-0c87db690282",
   "metadata": {},
   "source": [
    "#### 집합 자료형 관련 함수"
   ]
  },
  {
   "cell_type": "code",
   "execution_count": 120,
   "id": "201ac348-3d79-4d8b-beaf-ed45b3112a69",
   "metadata": {},
   "outputs": [],
   "source": [
    "### 값 1개 추가하기 - add\n",
    "\n",
    "s1 = set([1,2,3])\n",
    "s1.add(4)"
   ]
  },
  {
   "cell_type": "code",
   "execution_count": 121,
   "id": "317f588a-5bf1-478e-9e78-2cc2a22df389",
   "metadata": {},
   "outputs": [
    {
     "data": {
      "text/plain": [
       "{1, 2, 3, 4}"
      ]
     },
     "execution_count": 121,
     "metadata": {},
     "output_type": "execute_result"
    }
   ],
   "source": [
    "s1"
   ]
  },
  {
   "cell_type": "code",
   "execution_count": 122,
   "id": "371c0060-88c1-4a8b-b55e-e0e0d22fa5e8",
   "metadata": {},
   "outputs": [],
   "source": [
    "### 값 여러 개 추가하기 - update\n",
    "s1.update([5,6,7])"
   ]
  },
  {
   "cell_type": "code",
   "execution_count": 123,
   "id": "e4cd7ad3-2b77-4a88-9efd-ad3b09315e89",
   "metadata": {},
   "outputs": [
    {
     "data": {
      "text/plain": [
       "{1, 2, 3, 4, 5, 6, 7}"
      ]
     },
     "execution_count": 123,
     "metadata": {},
     "output_type": "execute_result"
    }
   ],
   "source": [
    "s1"
   ]
  },
  {
   "cell_type": "code",
   "execution_count": 124,
   "id": "16e47a94-ab0b-4c7f-bd5f-3dbb54f233aa",
   "metadata": {},
   "outputs": [
    {
     "data": {
      "text/plain": [
       "{1, 2, 3}"
      ]
     },
     "execution_count": 124,
     "metadata": {},
     "output_type": "execute_result"
    }
   ],
   "source": [
    "### 특정 값 제거하기 - remove\n",
    "\n",
    "s1 = set([1,2,3])\n",
    "s1"
   ]
  },
  {
   "cell_type": "code",
   "execution_count": 125,
   "id": "509d0283-7aff-44ea-9d65-92bba20e0de1",
   "metadata": {},
   "outputs": [],
   "source": [
    "s1.remove(3)"
   ]
  },
  {
   "cell_type": "code",
   "execution_count": 126,
   "id": "b0b7b84a-e36a-4e1d-baf9-65df1ac8b8b6",
   "metadata": {},
   "outputs": [
    {
     "data": {
      "text/plain": [
       "{1, 2}"
      ]
     },
     "execution_count": 126,
     "metadata": {},
     "output_type": "execute_result"
    }
   ],
   "source": [
    "s1"
   ]
  },
  {
   "cell_type": "markdown",
   "id": "a94b25ef-4dd1-462a-8cb6-99e109730b09",
   "metadata": {},
   "source": [
    "## 불 자료형"
   ]
  },
  {
   "cell_type": "code",
   "execution_count": 129,
   "id": "12a8fb90-3d3b-4cf2-a763-0a130aef5cfa",
   "metadata": {},
   "outputs": [],
   "source": [
    "### 참(True)과 거짓(False)를 나타낸다\n",
    "### 조건문을 만들 때 잘 사용되는 자료형"
   ]
  },
  {
   "cell_type": "code",
   "execution_count": 131,
   "id": "63ec0ddb-892e-48a8-992e-06276685e9c5",
   "metadata": {},
   "outputs": [
    {
     "name": "stdout",
     "output_type": "stream",
     "text": [
      "4\n",
      "3\n",
      "2\n",
      "1\n"
     ]
    }
   ],
   "source": [
    "a = [1,2,3,4]\n",
    "\n",
    "while a:\n",
    "    print(a.pop())"
   ]
  },
  {
   "cell_type": "code",
   "execution_count": 132,
   "id": "4e291acb-40b1-446e-be0d-daa29938b1a4",
   "metadata": {},
   "outputs": [
    {
     "name": "stdout",
     "output_type": "stream",
     "text": [
      "거짓\n"
     ]
    }
   ],
   "source": [
    "if '':\n",
    "    print(\"참\")\n",
    "else:\n",
    "    print(\"거짓\")"
   ]
  },
  {
   "cell_type": "markdown",
   "id": "3f7babdf-e062-466d-978c-d42660b3ac0c",
   "metadata": {},
   "source": [
    "#### 불(bool) 연산"
   ]
  },
  {
   "cell_type": "code",
   "execution_count": 133,
   "id": "e08bbf25-e0b6-4338-9d7a-e7a924a1a27d",
   "metadata": {},
   "outputs": [
    {
     "data": {
      "text/plain": [
       "True"
      ]
     },
     "execution_count": 133,
     "metadata": {},
     "output_type": "execute_result"
    }
   ],
   "source": [
    "bool('python')"
   ]
  },
  {
   "cell_type": "code",
   "execution_count": 134,
   "id": "0c55a3ab-f622-4302-bf42-af86d8316065",
   "metadata": {},
   "outputs": [
    {
     "data": {
      "text/plain": [
       "True"
      ]
     },
     "execution_count": 134,
     "metadata": {},
     "output_type": "execute_result"
    }
   ],
   "source": [
    "bool('python') is True"
   ]
  },
  {
   "cell_type": "code",
   "execution_count": 135,
   "id": "2581b005-0a30-444e-93ca-4871efbc507c",
   "metadata": {},
   "outputs": [
    {
     "name": "stderr",
     "output_type": "stream",
     "text": [
      "<>:1: SyntaxWarning: \"is\" with 'str' literal. Did you mean \"==\"?\n",
      "<>:1: SyntaxWarning: \"is\" with 'str' literal. Did you mean \"==\"?\n",
      "C:\\Users\\wupei\\AppData\\Local\\Temp\\ipykernel_4388\\486934944.py:1: SyntaxWarning: \"is\" with 'str' literal. Did you mean \"==\"?\n",
      "  'python' is True\n"
     ]
    },
    {
     "data": {
      "text/plain": [
       "False"
      ]
     },
     "execution_count": 135,
     "metadata": {},
     "output_type": "execute_result"
    }
   ],
   "source": [
    "'python' is True"
   ]
  },
  {
   "cell_type": "code",
   "execution_count": null,
   "id": "5bcd247d-087e-4a50-942f-6c9161e4ec7b",
   "metadata": {},
   "outputs": [],
   "source": []
  }
 ],
 "metadata": {
  "kernelspec": {
   "display_name": "Python 3 (ipykernel)",
   "language": "python",
   "name": "python3"
  },
  "language_info": {
   "codemirror_mode": {
    "name": "ipython",
    "version": 3
   },
   "file_extension": ".py",
   "mimetype": "text/x-python",
   "name": "python",
   "nbconvert_exporter": "python",
   "pygments_lexer": "ipython3",
   "version": "3.12.1"
  }
 },
 "nbformat": 4,
 "nbformat_minor": 5
}
