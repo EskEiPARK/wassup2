{
 "cells": [
  {
   "cell_type": "code",
   "execution_count": 1,
   "id": "c25a1109-b908-43ca-9b05-7b23660ab136",
   "metadata": {},
   "outputs": [],
   "source": [
    "### 051 리스트 생성\n",
    "\n",
    "movie_rank = [\"닥터 스트레인지\", \"스플릿\", \"럭키\"]"
   ]
  },
  {
   "cell_type": "code",
   "execution_count": 2,
   "id": "a9b9fb52-bbf9-47f0-9974-b01caa907276",
   "metadata": {},
   "outputs": [
    {
     "name": "stdout",
     "output_type": "stream",
     "text": [
      "['닥터 스트레인지', '스플릿', '럭키', '배트맨']\n"
     ]
    }
   ],
   "source": [
    "### 052. 리스트에 원소 추가\n",
    "### movie_rank에 \"배트맨\" cnrk\n",
    "\n",
    "movie_rank.append(\"배트맨\")\n",
    "\n",
    "print(movie_rank)"
   ]
  },
  {
   "cell_type": "code",
   "execution_count": 4,
   "id": "175e63ea-133d-49ba-a075-67fdb355bbb7",
   "metadata": {},
   "outputs": [
    {
     "name": "stdout",
     "output_type": "stream",
     "text": [
      "['닥터 스트레인지', '슈퍼맨', '스플릿', '럭키', '배트맨']\n"
     ]
    }
   ],
   "source": [
    "### 053. movie_rank에서 \"슈퍼맨\"을 \"닥터 스트레인지\"와 \"스플릿\" 사이에 추가하가\n",
    "\n",
    "movie_rank.insert(1, \"슈퍼맨\")\n",
    "print(movie_rank)"
   ]
  },
  {
   "cell_type": "code",
   "execution_count": 6,
   "id": "0d7c8898-1fae-43ac-be8c-de9df75a8c03",
   "metadata": {},
   "outputs": [
    {
     "name": "stdout",
     "output_type": "stream",
     "text": [
      "['닥터 스트레인지', '슈퍼맨', '스플릿', '배트맨']\n"
     ]
    }
   ],
   "source": [
    "### 054. \"럭키\"를 movie_rank에서 삭제하기\n",
    "del movie_rank[3]\n",
    "\n",
    "print(movie_rank)"
   ]
  },
  {
   "cell_type": "code",
   "execution_count": 7,
   "id": "c7d3ec0a-57c1-4e6c-81a6-bdab8c995df5",
   "metadata": {},
   "outputs": [],
   "source": [
    "### 055. movie_rank 리스트에서 \"스플릿\"과 \"배트맨\" 삭제\n",
    "\n",
    "del movie_rank[2:]"
   ]
  },
  {
   "cell_type": "code",
   "execution_count": 8,
   "id": "b3942c15-37bb-42df-9191-0fba10f5c1a2",
   "metadata": {},
   "outputs": [
    {
     "name": "stdout",
     "output_type": "stream",
     "text": [
      "['닥터 스트레인지', '슈퍼맨']\n"
     ]
    }
   ],
   "source": [
    "print(movie_rank)"
   ]
  },
  {
   "cell_type": "code",
   "execution_count": 9,
   "id": "c8575c5d-15a0-4c90-8b88-c6b4944f3519",
   "metadata": {},
   "outputs": [
    {
     "name": "stdout",
     "output_type": "stream",
     "text": [
      "['C', 'C++', 'JAVA', 'Python', 'Go', 'C#']\n"
     ]
    }
   ],
   "source": [
    "### 056. lang1과 lang2 리스트가 있을 때, lan1과 lang2의 원소를 모두 갖고 있는 langs 리스트를 만들어라\n",
    "\n",
    "lang1 = [\"C\", \"C++\", \"JAVA\"]\n",
    "lang2 = [\"Python\", \"Go\", \"C#\"]\n",
    "\n",
    "langs = lang1 + lang2\n",
    "\n",
    "print(langs)"
   ]
  },
  {
   "cell_type": "code",
   "execution_count": 10,
   "id": "b3e5268d-8765-4042-b6ae-45c2a094798f",
   "metadata": {},
   "outputs": [],
   "source": [
    "### 057. 다음 리스트에서 최댓값과 최솟값을 출력하라\n",
    "nums = [1,2,3,4,5,6,7]"
   ]
  },
  {
   "cell_type": "code",
   "execution_count": 11,
   "id": "678d31ed-ca95-48ea-9796-a2e3d39ec76c",
   "metadata": {},
   "outputs": [
    {
     "data": {
      "text/plain": [
       "7"
      ]
     },
     "execution_count": 11,
     "metadata": {},
     "output_type": "execute_result"
    }
   ],
   "source": [
    "max(nums)"
   ]
  },
  {
   "cell_type": "code",
   "execution_count": 12,
   "id": "c6ba0200-a625-4657-8fa4-9495aa9d9a83",
   "metadata": {},
   "outputs": [
    {
     "name": "stdout",
     "output_type": "stream",
     "text": [
      "7\n",
      "1\n"
     ]
    }
   ],
   "source": [
    "최대값 = max(nums)\n",
    "최솟값 = min(nums)\n",
    "\n",
    "print(최대값)\n",
    "print(최솟값)"
   ]
  },
  {
   "cell_type": "code",
   "execution_count": 1,
   "id": "7ff9698d-1ceb-45be-b11e-3d4101f23dc8",
   "metadata": {},
   "outputs": [
    {
     "name": "stdout",
     "output_type": "stream",
     "text": [
      "15\n"
     ]
    }
   ],
   "source": [
    "### 058. 리스트 합을 출력하라\n",
    "\n",
    "nums = [1,2,3,4,5]\n",
    "\n",
    "print(sum(nums))"
   ]
  },
  {
   "cell_type": "code",
   "execution_count": 15,
   "id": "9de2795d-5e45-4b97-b286-a3d4b9c73fb7",
   "metadata": {},
   "outputs": [],
   "source": [
    "### 059. 다음 리스트에 저장된 데이터의 개수를 화면에 구하라\n",
    "\n",
    "cook = [\"피자\", \"김밥\", \"만두\", \"양념치킨\", \"족발\", \"피자\", \"김치만두\", \"쫄면\", \"소시지\", \"라면\", \"팥빙수\", \"김치전\"]"
   ]
  },
  {
   "cell_type": "code",
   "execution_count": 17,
   "id": "ab1506e6-121c-4083-aa64-79a09086d6ab",
   "metadata": {},
   "outputs": [
    {
     "data": {
      "text/plain": [
       "12"
      ]
     },
     "execution_count": 17,
     "metadata": {},
     "output_type": "execute_result"
    }
   ],
   "source": [
    "len(cook)"
   ]
  },
  {
   "cell_type": "code",
   "execution_count": 21,
   "id": "547ff47a-07e5-444e-b040-4eeeff270e16",
   "metadata": {},
   "outputs": [],
   "source": [
    "### 060. 다음 리스트의 평균 출력\n",
    "nums = [1, 2, 3, 4, 5]"
   ]
  },
  {
   "cell_type": "code",
   "execution_count": 2,
   "id": "8ef85c2a-12aa-4929-80ce-c331b9be2d4f",
   "metadata": {},
   "outputs": [
    {
     "name": "stdout",
     "output_type": "stream",
     "text": [
      "3.0\n"
     ]
    }
   ],
   "source": [
    "print(sum(nums)/len(nums))"
   ]
  },
  {
   "cell_type": "code",
   "execution_count": 3,
   "id": "fa008aa0-2f0a-4b6b-a3ea-5cb573361a53",
   "metadata": {},
   "outputs": [
    {
     "name": "stdout",
     "output_type": "stream",
     "text": [
      "[100, 130, 140, 150, 160, 170]\n"
     ]
    }
   ],
   "source": [
    "### 061. price 변수에 날짜와 종가 정보가 있다.\n",
    "### 날짜 정보를 제외하고 가격 정보만을 출력하라\n",
    "\n",
    "price = ['20180728', 100, 130, 140, 150, 160, 170]\n",
    "\n",
    "price_in = price[1:]\n",
    "print(price_in)"
   ]
  },
  {
   "cell_type": "code",
   "execution_count": 4,
   "id": "0e595b6d-c3df-4d5d-a5ae-8b42024f8502",
   "metadata": {},
   "outputs": [
    {
     "name": "stdout",
     "output_type": "stream",
     "text": [
      "[1, 3, 5, 7, 9]\n"
     ]
    }
   ],
   "source": [
    "### 062. 슬라이싱을 사용해서 홀수만 출력\n",
    "nums = [1, 2, 3, 4, 5, 6, 7, 8, 9, 10]\n",
    "\n",
    "print(nums[::2])"
   ]
  },
  {
   "cell_type": "code",
   "execution_count": 9,
   "id": "d8916cdb-eb94-4c2d-8fc4-9c892f4abdbe",
   "metadata": {},
   "outputs": [
    {
     "name": "stdout",
     "output_type": "stream",
     "text": [
      "[2, 4, 6, 8, 10]\n"
     ]
    }
   ],
   "source": [
    "### 063. Wkrtnaks cnffur\n",
    "print(nums[1::2])"
   ]
  },
  {
   "cell_type": "code",
   "execution_count": 11,
   "id": "9db900f4-dd78-4df4-af7a-90cfecaa4c19",
   "metadata": {},
   "outputs": [
    {
     "name": "stdout",
     "output_type": "stream",
     "text": [
      "[10, 9, 8, 7, 6, 5, 4, 3, 2, 1]\n"
     ]
    }
   ],
   "source": [
    "### 064. 슬라이싱을 사용햇 리스트의 숫자를 역 방향으로 출력하라\n",
    "\n",
    "print(nums[::-1])"
   ]
  },
  {
   "cell_type": "code",
   "execution_count": 12,
   "id": "570f5a89-5cc0-4e79-9c14-3494d5c885f3",
   "metadata": {},
   "outputs": [
    {
     "name": "stdout",
     "output_type": "stream",
     "text": [
      "['삼성전자', 'Naver']\n"
     ]
    }
   ],
   "source": [
    "### 065. interest 리스트에는 아래의 데이터가 바인딩 되어 있다.\n",
    "interest = ['삼성전자', 'LG전자', 'Naver']\n",
    "\n",
    "### interest 리스트를 사용하여 아래와 같이 화면에 출력하라 삼성전자, Naver\n",
    "\n",
    "print(interest[::2])"
   ]
  },
  {
   "cell_type": "code",
   "execution_count": 16,
   "id": "3871f624-4580-4e98-8de1-9f7651710acf",
   "metadata": {},
   "outputs": [
    {
     "name": "stdout",
     "output_type": "stream",
     "text": [
      "삼성전자 LG전자 Naver SK하이닉스 미래에셋대우\n"
     ]
    }
   ],
   "source": [
    "### 066. join 메서드\n",
    "### interest 리스트에는 아래의 데이터가 바인딩되어 있다.\n",
    "\n",
    "interest = ['삼성전자', 'LG전자', 'Naver', 'SK하이닉스', '미래에셋대우']\n",
    "\n",
    "### interest 리스트를 사용하여 \"삼성전자 LG전자 Naver SK하이닉스 미래에셋대우 값을 출력하라\n",
    "print(\" \".join(interest))"
   ]
  },
  {
   "cell_type": "code",
   "execution_count": 17,
   "id": "33366c12-18a1-4f72-82b7-b429cf9750db",
   "metadata": {},
   "outputs": [
    {
     "name": "stdout",
     "output_type": "stream",
     "text": [
      "삼성전자/LG전자/Naver/SK하이닉스/미래에셋대우\n"
     ]
    }
   ],
   "source": [
    "### 067. \"삼성전자/LG전자/Naver/SK하이닉스/미래에셋대우' 와 같이 출력하기\n",
    "\n",
    "print(\"/\".join(interest))"
   ]
  },
  {
   "cell_type": "code",
   "execution_count": 18,
   "id": "0225e759-8b1a-4f5a-8467-fcfe7762feda",
   "metadata": {},
   "outputs": [
    {
     "name": "stdout",
     "output_type": "stream",
     "text": [
      "삼성전자\n",
      "LG전자\n",
      "Naver\n",
      "SK하이닉스\n",
      "미래에셋대우\n"
     ]
    }
   ],
   "source": [
    "### 068.\\n 사용하기\n",
    "## 삼성전자\n",
    "## LG전자\n",
    "## Naver\n",
    "## SK하이닉스\n",
    "## 미래에셋대우\n",
    "\n",
    "print(\"\\n\".join(interest))"
   ]
  },
  {
   "cell_type": "code",
   "execution_count": 19,
   "id": "709929b3-d73a-4e03-a6b9-752a3918c452",
   "metadata": {},
   "outputs": [
    {
     "name": "stdout",
     "output_type": "stream",
     "text": [
      "['삼성전자', 'LG전자', 'Naver']\n"
     ]
    }
   ],
   "source": [
    "### 069. 문자열 split 매서드\n",
    "### 회사 이름이 슬래시(\"/\")로 구분되어 하나의 문자열로 저장되어 있다.\n",
    "string = \"삼성전자/LG전자/Naver\"\n",
    "### 이를 interest 이름의 리스트로 분리 저장하라\n",
    "\n",
    "interest = string.split(\"/\")\n",
    "print(interest)"
   ]
  },
  {
   "cell_type": "code",
   "execution_count": 20,
   "id": "d977cf3e-cbdb-46ca-b9d6-923348f13557",
   "metadata": {},
   "outputs": [
    {
     "name": "stdout",
     "output_type": "stream",
     "text": [
      "[1, 2, 3, 4, 5, 9, 10]\n"
     ]
    }
   ],
   "source": [
    "### 070. 리스트 정렬\n",
    "data = [2,4,3,1,5,10,9]\n",
    "### 오름차순으로 정렬\n",
    "\n",
    "data.sort()\n",
    "print(data)"
   ]
  },
  {
   "cell_type": "markdown",
   "id": "ebf38bcf-0ea9-491c-b2fa-91136ad9f059",
   "metadata": {},
   "source": [
    "### 파이썬 튜플 070 ~ 080"
   ]
  },
  {
   "cell_type": "code",
   "execution_count": 22,
   "id": "fc4f45fd-f597-41b7-8f4f-7e656d6cec4a",
   "metadata": {},
   "outputs": [],
   "source": [
    "### 071. my_variable 이름이 비어있는 튜플을 만들어라\n",
    "my_variable = ()"
   ]
  },
  {
   "cell_type": "code",
   "execution_count": 24,
   "id": "503d6870-d409-4f0c-9d90-9836d824d04d",
   "metadata": {},
   "outputs": [
    {
     "name": "stdout",
     "output_type": "stream",
     "text": [
      "<class 'tuple'>\n"
     ]
    }
   ],
   "source": [
    "print(type(my_variable))"
   ]
  },
  {
   "cell_type": "code",
   "execution_count": 25,
   "id": "1bacf36e-3893-44d7-bd7a-4a938a984e18",
   "metadata": {},
   "outputs": [],
   "source": [
    "### 072. movie_rank 이름의 튜플에 영화제목 저장\n",
    "\n",
    "movie_rank = (\"닥터 스트레인지\", \"스플릿\", \"럭키\")"
   ]
  },
  {
   "cell_type": "code",
   "execution_count": 26,
   "id": "1ecaa604-4f81-46c1-9c3e-3fd6c46f8fde",
   "metadata": {},
   "outputs": [
    {
     "name": "stdout",
     "output_type": "stream",
     "text": [
      "('닥터 스트레인지', '스플릿', '럭키') <class 'tuple'>\n"
     ]
    }
   ],
   "source": [
    "print(movie_rank, type(movie_rank))"
   ]
  },
  {
   "cell_type": "code",
   "execution_count": 27,
   "id": "6e2aa6bc-7330-498b-8200-f5edb8926225",
   "metadata": {},
   "outputs": [],
   "source": [
    "### 073. 숫자 1이 저장된 튜플 생성\n",
    "\n",
    "a = (1,)"
   ]
  },
  {
   "cell_type": "code",
   "execution_count": 28,
   "id": "45db80f6-b3ed-4108-95fd-ffc6cd3db195",
   "metadata": {},
   "outputs": [],
   "source": [
    "### 074. 다음 코드 실행해보고 오류 발생 원인 설명"
   ]
  },
  {
   "cell_type": "code",
   "execution_count": 31,
   "id": "a1997956-2f44-41b8-9d74-78f35f44aca5",
   "metadata": {},
   "outputs": [
    {
     "name": "stdout",
     "output_type": "stream",
     "text": [
      "(1, 2, 3)\n"
     ]
    }
   ],
   "source": [
    "t = (1, 2, 3)\n",
    "### t[0] = 'a' => 튜플 자료형은 수정 안됨\n",
    "print(t)"
   ]
  },
  {
   "cell_type": "code",
   "execution_count": 32,
   "id": "32f4efcb-4436-4c1a-9eb6-c24ac1488dc5",
   "metadata": {},
   "outputs": [
    {
     "name": "stdout",
     "output_type": "stream",
     "text": [
      "<class 'tuple'>\n"
     ]
    }
   ],
   "source": [
    "### 075. 아래와 같이 t에는 1,2,3,4 데이터가 바인딩되어 있다. t가 바인딩하는 데이터 타입은 무엇인가?\n",
    "\n",
    "t = 1,2,3,4\n",
    "\n",
    "print(type(t))"
   ]
  },
  {
   "cell_type": "code",
   "execution_count": 33,
   "id": "cf2bbc57-5cd8-45ab-b4f4-322a20b82488",
   "metadata": {},
   "outputs": [
    {
     "name": "stdout",
     "output_type": "stream",
     "text": [
      "('a', 'b', 'c')\n"
     ]
    }
   ],
   "source": [
    "### 076. 변수 t는 ('a', 'b', 'c') 값이 저장 되어 있다.  ('A', 'b', 'c') 튜플을 가리키도록 수정하라\n",
    "\n",
    "t = ('a', 'b', 'c')\n",
    "\n",
    "print(t)"
   ]
  },
  {
   "cell_type": "code",
   "execution_count": 34,
   "id": "e86e881b-82e2-4792-b484-f0253f5c0e1c",
   "metadata": {},
   "outputs": [
    {
     "name": "stdout",
     "output_type": "stream",
     "text": [
      "('A', 'b', 'c')\n"
     ]
    }
   ],
   "source": [
    "t = t = ('A', 'b', 'c')\n",
    "\n",
    "print(t)"
   ]
  },
  {
   "cell_type": "code",
   "execution_count": 35,
   "id": "9e7b2df4-955b-4604-826a-685d928bca92",
   "metadata": {},
   "outputs": [
    {
     "name": "stdout",
     "output_type": "stream",
     "text": [
      "['삼성전자', 'LG전자', 'SK Hynix'] <class 'list'>\n"
     ]
    }
   ],
   "source": [
    "### 077. 다음 튜플을 리스트로 변환하라\n",
    "interest = ('삼성전자', 'LG전자', 'SK Hynix')\n",
    "\n",
    "list_interest = list(interest)\n",
    "print(list_interest, type(list_interest))"
   ]
  },
  {
   "cell_type": "code",
   "execution_count": 36,
   "id": "0aecf13d-21ff-4638-8fa6-ae60e86f237c",
   "metadata": {},
   "outputs": [
    {
     "name": "stdout",
     "output_type": "stream",
     "text": [
      "apple banana cake\n"
     ]
    }
   ],
   "source": [
    "### 079. 투플 언팩킹\n",
    "temp = ('apple', 'banana', 'cake')\n",
    "a, b, c, = temp\n",
    "print(a, b, c)"
   ]
  },
  {
   "cell_type": "code",
   "execution_count": 38,
   "id": "815543d7-9c96-4da0-a9ed-cda11823203c",
   "metadata": {},
   "outputs": [
    {
     "name": "stdout",
     "output_type": "stream",
     "text": [
      "(2, 4, 6, 8, 10, 12, 14, 16, 18, 20, 22, 24, 26, 28, 30, 32, 34, 36, 38, 40, 42, 44, 46, 48, 50, 52, 54, 56, 58, 60, 62, 64, 66, 68, 70, 72, 74, 76, 78, 80, 82, 84, 86, 88, 90, 92, 94, 96, 98)\n"
     ]
    }
   ],
   "source": [
    "### 080. range 함수를 사용하여 1부터 99까지의 정수 중 짝수만 저장된 튜플 생성하기\n",
    "\n",
    "even = tuple(range(2,100,2))\n",
    "print(even)"
   ]
  },
  {
   "cell_type": "markdown",
   "id": "6ba2fb5b-61bb-40ac-b1cc-d045d1762248",
   "metadata": {},
   "source": [
    "### 파이썬 딕셔너리 81 ~ 100"
   ]
  },
  {
   "cell_type": "code",
   "execution_count": 39,
   "id": "ff91aeb0-a1e4-4631-ba30-94383fd8b916",
   "metadata": {},
   "outputs": [],
   "source": [
    "### 081. 별 표현식\n",
    "\n",
    "scores = [8.8, 8.9, 8.7, 9.2, 9.3, 9.7, 9.9, 9.5, 7.8, 9.4]"
   ]
  },
  {
   "cell_type": "code",
   "execution_count": 40,
   "id": "27fc5fbc-46da-4a9a-8be8-035f21fa0ed7",
   "metadata": {},
   "outputs": [
    {
     "name": "stdout",
     "output_type": "stream",
     "text": [
      "[8.8, 8.9, 8.7, 9.2, 9.3, 9.7, 9.9, 9.5]\n"
     ]
    }
   ],
   "source": [
    "### start expression을 사용하여 좌측 8개의 값을 valid_socre 변수에 바인딩하여라\n",
    "*valid_scores, b, c = scores\n",
    "\n",
    "print(valid_scores)"
   ]
  },
  {
   "cell_type": "code",
   "execution_count": 41,
   "id": "d6350527-b545-4202-8019-042046828db5",
   "metadata": {},
   "outputs": [
    {
     "name": "stdout",
     "output_type": "stream",
     "text": [
      "[8.8, 8.9, 8.7, 9.2, 9.3, 9.7, 9.9, 9.5]\n"
     ]
    }
   ],
   "source": [
    "### 082. 우측 8개  값이 valid_scores 변수에 바인딩\n",
    "\n",
    "a, b, *vaild_scores = scores\n",
    "\n",
    "print(valid_scores)"
   ]
  },
  {
   "cell_type": "code",
   "execution_count": 42,
   "id": "3c6cc126-0f7d-444c-9c87-c1c77d0cad8a",
   "metadata": {},
   "outputs": [
    {
     "name": "stdout",
     "output_type": "stream",
     "text": [
      "[8.9, 8.7, 9.2, 9.3, 9.7, 9.9, 9.5, 7.8]\n"
     ]
    }
   ],
   "source": [
    "### 083. 가운데 8개 값을 valid_score 변수에 바인딩\n",
    "\n",
    "a, *valid_score, b = scores\n",
    "\n",
    "print(valid_score)"
   ]
  },
  {
   "cell_type": "code",
   "execution_count": 43,
   "id": "46ec7777-f8ba-4d02-86da-fb7c2dca8b49",
   "metadata": {},
   "outputs": [
    {
     "name": "stdout",
     "output_type": "stream",
     "text": [
      "{} <class 'dict'>\n"
     ]
    }
   ],
   "source": [
    "### 084. 비어있는 딕셔너리 생성 temp\n",
    "\n",
    "temp = {}\n",
    "print(temp, type(temp))"
   ]
  },
  {
   "cell_type": "code",
   "execution_count": 45,
   "id": "eb86f867-7aa8-4b0c-b6ee-70987443f383",
   "metadata": {},
   "outputs": [
    {
     "name": "stdout",
     "output_type": "stream",
     "text": [
      "dict_keys(['메로나', '폴라포', '빵빠레'])\n"
     ]
    }
   ],
   "source": [
    "### 085. 다음 아이스크린 이름과 희망 가격을 딕셔너리로 구성\n",
    "\n",
    "icecreams = {\"메로나\":1000, \"폴라포\":1200, \"빵빠레\":1800}\n",
    "print(icecreams.keys())"
   ]
  },
  {
   "cell_type": "code",
   "execution_count": 47,
   "id": "0ec3bb9e-6408-4039-b644-bc693c48c0ca",
   "metadata": {},
   "outputs": [
    {
     "name": "stdout",
     "output_type": "stream",
     "text": [
      "{'메로나': 1000, '폴라포': 1200, '빵빠레': 1800, '죠스바': 1200, '월드콘': 1500}\n"
     ]
    }
   ],
   "source": [
    "### 086. 085번의 딕셔너리에 아래 아이스크림 가격정보를 추가하라\n",
    "\n",
    "icecreams[\"죠스바\"] = 1200\n",
    "icecreams[\"월드콘\"] = 1500\n",
    "\n",
    "print(icecreams)"
   ]
  },
  {
   "cell_type": "code",
   "execution_count": 50,
   "id": "337fae16-deb2-4b03-bc77-53bec9833822",
   "metadata": {},
   "outputs": [
    {
     "name": "stdout",
     "output_type": "stream",
     "text": [
      "메로나 가격:  1000\n"
     ]
    }
   ],
   "source": [
    "### 087. 다은 딕셔너리를 사용하여 메로나 가격 출력\n",
    "ice = {'메로나': 1000,\n",
    "       '폴로포': 1200,\n",
    "       '빵빠레': 1800,\n",
    "       '죠스바': 1200,\n",
    "       '월드콘': 1500}\n",
    "print(\"메로나 가격: \", ice[\"메로나\"])"
   ]
  },
  {
   "cell_type": "code",
   "execution_count": 52,
   "id": "a0cf222b-e892-47fd-a500-fd5a3434b1ba",
   "metadata": {},
   "outputs": [
    {
     "name": "stdout",
     "output_type": "stream",
     "text": [
      "1300\n"
     ]
    }
   ],
   "source": [
    "### 088. 메로나 가격을 1300으로 수정\n",
    "ice[\"메로나\"] = 1300\n",
    "\n",
    "print(ice[\"메로나\"])"
   ]
  },
  {
   "cell_type": "code",
   "execution_count": 53,
   "id": "6e1715b8-8ba7-4d2c-b805-ba96f4940927",
   "metadata": {},
   "outputs": [
    {
     "name": "stdout",
     "output_type": "stream",
     "text": [
      "dict_keys(['폴로포', '빵빠레', '죠스바', '월드콘'])\n"
     ]
    }
   ],
   "source": [
    "### 089. 딕셔너리에서 메로나 삭제\n",
    "\n",
    "del ice[\"메로나\"]\n",
    "\n",
    "print(ice.keys())"
   ]
  },
  {
   "cell_type": "code",
   "execution_count": 54,
   "id": "26133062-4a4d-4f9c-bd33-cb4b2ab740b0",
   "metadata": {},
   "outputs": [],
   "source": [
    "### 090. 다음 코드에서 에러가 발생한 원인 설명하기"
   ]
  },
  {
   "attachments": {
    "29c091a3-b0dc-445a-a2ce-5ce514a9dc08.png": {
     "image/png": "[encoded data removed]"
    }
   },
   "cell_type": "markdown",
   "id": "801f8dc6-f730-4066-9bfa-b12ec4563d56",
   "metadata": {},
   "source": [
    "![image.png](attachment:29c091a3-b0dc-445a-a2ce-5ce514a9dc08.png)누가바'\r\n"
   ]
  },
  {
   "cell_type": "code",
   "execution_count": 56,
   "id": "8b27def5-4991-4452-8a07-7cd75f143288",
   "metadata": {},
   "outputs": [],
   "source": [
    "### 딕셔너리에 존재하지 않는 키인 '누가바'를 출력하여 에러 발생"
   ]
  },
  {
   "cell_type": "code",
   "execution_count": 59,
   "id": "e1b12d03-35c4-4aab-aed4-215bda60100c",
   "metadata": {},
   "outputs": [
    {
     "name": "stdout",
     "output_type": "stream",
     "text": [
      "{'메로나': [300, 20], '비비빅': [400, 3], '죠스바': [250, 100]}\n"
     ]
    }
   ],
   "source": [
    "### 091. 딕셔너리 생성\n",
    "inventory = {\"메로나\":[300, 20], \"비비빅\":[400,3], \"죠스바\":[250,100]}\n",
    "\n",
    "print(inventory)"
   ]
  },
  {
   "cell_type": "code",
   "execution_count": 62,
   "id": "75c21697-a668-4e5b-badc-3f2f0a5dcc62",
   "metadata": {},
   "outputs": [
    {
     "name": "stdout",
     "output_type": "stream",
     "text": [
      "300 원\n"
     ]
    }
   ],
   "source": [
    "### 092. 딕셔너리 인덱싱, \"메로나 가격 출력\n",
    "\n",
    "print(inventory[\"메로나\"][0],\"원\")"
   ]
  },
  {
   "cell_type": "code",
   "execution_count": 63,
   "id": "1d71f14e-cca5-4d1d-9eb7-9d5a7cddaff8",
   "metadata": {},
   "outputs": [
    {
     "name": "stdout",
     "output_type": "stream",
     "text": [
      "20 개\n"
     ]
    }
   ],
   "source": [
    "### 093. 딕셔너리 인덱싱\n",
    "### 메로나의 재고 화면에 출력\n",
    "\n",
    "print(inventory[\"메로나\"][1], \"개\")"
   ]
  },
  {
   "cell_type": "code",
   "execution_count": 68,
   "id": "9b992f98-a475-451b-9362-3ffcebea26bf",
   "metadata": {},
   "outputs": [
    {
     "name": "stdout",
     "output_type": "stream",
     "text": [
      "{'메로나': [300, 20], '비비빅': [400, 3], '죠스바': [250, 100], '월드콘': [500, 7]}\n"
     ]
    }
   ],
   "source": [
    "### 094. 딕셔너리 추가\n",
    "inventory[\"월드콘\"] = [500, 7]\n",
    "\n",
    "print(inventory)"
   ]
  },
  {
   "cell_type": "code",
   "execution_count": 69,
   "id": "e99278e9-b853-4b77-8ca2-526f692abf9f",
   "metadata": {},
   "outputs": [
    {
     "name": "stdout",
     "output_type": "stream",
     "text": [
      "dict_keys(['탱크보이', '폴라포', '빵빠레', '월드콘', '메로나'])\n"
     ]
    }
   ],
   "source": [
    "### 095. 딕셔너리 keys() 메서드\n",
    "### 다음의 딕셔너리로부터 key 값으로만 구성된 리스트를 생성하라\n",
    "icecream = {'탱크보이': 1200, '폴라포': 1200, '빵빠레': 1800, '월드콘': 1500, '메로나': 1000}\n",
    "\n",
    "print(icecream.keys())"
   ]
  },
  {
   "cell_type": "code",
   "execution_count": 70,
   "id": "8d5b84de-17bb-4158-980b-0cd50c60e91c",
   "metadata": {},
   "outputs": [
    {
     "name": "stdout",
     "output_type": "stream",
     "text": [
      "dict_values([1200, 1200, 1800, 1500, 1000])\n"
     ]
    }
   ],
   "source": [
    "### 096. 딕셔너리 values() 메서드\n",
    "### 다음의 딕셔너리에서 values 값으로만 구성된 리스트를 생성하라\n",
    "\n",
    "print(icecream.values())"
   ]
  },
  {
   "cell_type": "code",
   "execution_count": 71,
   "id": "e0e76038-5597-4512-9837-589138dff40b",
   "metadata": {},
   "outputs": [
    {
     "name": "stdout",
     "output_type": "stream",
     "text": [
      "6700\n"
     ]
    }
   ],
   "source": [
    "### 097. 딕셔너리 values() 메서드\n",
    "### icecream 딕셔너리에서 아이스크린 판매 금액의 총합을 출력하라\n",
    "\n",
    "icecream = {'탱크보이': 1200, '폴라포': 1200, '빵빠레': 1800, '월드콘': 1500, '메로나': 1000}\n",
    "총합 = sum(icecream.values())\n",
    "\n",
    "print(총합)"
   ]
  },
  {
   "cell_type": "code",
   "execution_count": 72,
   "id": "174d3bdd-5342-466c-b8de-db383aae3d71",
   "metadata": {},
   "outputs": [
    {
     "name": "stdout",
     "output_type": "stream",
     "text": [
      "{'탱크보이': 1200, '폴라포': 1200, '빵빠레': 1800, '월드콘': 1500, '메로나': 1000, '팥빙수': 2700, '아맛나': 1000}\n"
     ]
    }
   ],
   "source": [
    "### 098. 딕셔너리 update 메서드\n",
    "### new_product 딕셔너리를 icecream 딕셔너리에 추가\n",
    "icecream = {'탱크보이': 1200, '폴라포': 1200, '빵빠레': 1800, '월드콘': 1500, '메로나': 1000}\n",
    "new_product = {'팥빙수':2700, '아맛나':1000}\n",
    "\n",
    "icecream.update(new_product)\n",
    "\n",
    "print(icecream)"
   ]
  },
  {
   "cell_type": "code",
   "execution_count": 73,
   "id": "8ca36f5d-2593-4188-9091-d10a8509cd36",
   "metadata": {},
   "outputs": [
    {
     "name": "stdout",
     "output_type": "stream",
     "text": [
      "{'apple': 300, 'pear': 250, 'peach': 400}\n"
     ]
    }
   ],
   "source": [
    "### 099. zip과 dict\n",
    "### 아래 두 개의 튜플을 하나의 딕셔너리로 변환\n",
    "# keys를 키로, vals를 값으로 result 이름의 딕셔너리로 저장\n",
    "\n",
    "keys = (\"apple\", \"pear\", \"peach\")\n",
    "vals = (300, 250, 400)\n",
    "\n",
    "result = dict(zip(keys, vals))\n",
    "print(result)"
   ]
  },
  {
   "cell_type": "code",
   "execution_count": 74,
   "id": "a9cbb140-3067-43e8-ac00-91125c3b0f7e",
   "metadata": {},
   "outputs": [
    {
     "name": "stdout",
     "output_type": "stream",
     "text": [
      "{'09/05': 10500, '09/06': 10300, '09/07': 10100, '09/08': 10800, '09/09': 11000}\n"
     ]
    }
   ],
   "source": [
    "### 100. zip과 dict\n",
    "### date와 close_price 두 개의 리스트를 close_table 이름의 딕셔너리로 생성하라\n",
    "\n",
    "date = ['09/05', '09/06', '09/07', '09/08', '09/09']\n",
    "close_price = [10500, 10300, 10100, 10800, 11000]\n",
    "\n",
    "close_table = dict(zip(date, close_price))\n",
    "\n",
    "print(close_table)"
   ]
  },
  {
   "cell_type": "code",
   "execution_count": null,
   "id": "da30978b-77d4-4eb1-85e1-3501c3adffa6",
   "metadata": {},
   "outputs": [],
   "source": []
  }
 ],
 "metadata": {
  "kernelspec": {
   "display_name": "Python 3 (ipykernel)",
   "language": "python",
   "name": "python3"
  },
  "language_info": {
   "codemirror_mode": {
    "name": "ipython",
    "version": 3
   },
   "file_extension": ".py",
   "mimetype": "text/x-python",
   "name": "python",
   "nbconvert_exporter": "python",
   "pygments_lexer": "ipython3",
   "version": "3.12.1"
  }
 },
 "nbformat": 4,
 "nbformat_minor": 5
}
