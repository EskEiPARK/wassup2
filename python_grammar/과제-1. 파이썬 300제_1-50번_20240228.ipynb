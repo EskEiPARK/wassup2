{
 "cells": [
  {
   "cell_type": "markdown",
   "id": "116abbdd-6eac-472d-9119-59acf66be0f2",
   "metadata": {},
   "source": [
    "# 001 ~ 010 문제\n",
    "## 파이썬 시작하기"
   ]
  },
  {
   "cell_type": "code",
   "execution_count": 33,
   "id": "26b26ec1-010f-4542-8481-a476a2fe9440",
   "metadata": {},
   "outputs": [
    {
     "name": "stdout",
     "output_type": "stream",
     "text": [
      "Hello World\n"
     ]
    }
   ],
   "source": [
    "### 001 print 기초\n",
    "### 화면에 Hello World 문자열 출력하세요\n",
    "\n",
    "print(\"Hello World\")"
   ]
  },
  {
   "cell_type": "code",
   "execution_count": 3,
   "id": "89840ffe-f681-4c3e-9973-a9f6e39e2ed2",
   "metadata": {},
   "outputs": [
    {
     "name": "stdout",
     "output_type": "stream",
     "text": [
      "Mary's costmestics\n"
     ]
    }
   ],
   "source": [
    "### 002 print 기초\n",
    "### 화면에 Mary's cosmetics을 출력하세요. (중간에 '가 있음에 주의하세요)\n",
    "\n",
    "print(\"Mary's costmestics\")"
   ]
  },
  {
   "cell_type": "code",
   "execution_count": 4,
   "id": "90fa2d4e-869c-4e5f-8e3a-6ce7a3587b35",
   "metadata": {},
   "outputs": [
    {
     "name": "stdout",
     "output_type": "stream",
     "text": [
      "신씨가 소리질렀다. \"도둑이야\".\n"
     ]
    }
   ],
   "source": [
    "### 003 print 기초\n",
    "### 화면에 아래 문장을 출력하세요. (중간에 \"가 있음에 주의하세요.\n",
    "### 신씨가 소리질렀다. \"도둑이야\".\n",
    "\n",
    "print('신씨가 소리질렀다. \"도둑이야\".')"
   ]
  },
  {
   "cell_type": "code",
   "execution_count": 11,
   "id": "73c29790-7d7e-4395-b790-472861d2dc83",
   "metadata": {},
   "outputs": [
    {
     "name": "stdout",
     "output_type": "stream",
     "text": [
      "C:\\Windows\n"
     ]
    },
    {
     "name": "stderr",
     "output_type": "stream",
     "text": [
      "<>:4: SyntaxWarning: invalid escape sequence '\\W'\n",
      "<>:4: SyntaxWarning: invalid escape sequence '\\W'\n",
      "C:\\Users\\wupei\\AppData\\Local\\Temp\\ipykernel_15520\\38246582.py:4: SyntaxWarning: invalid escape sequence '\\W'\n",
      "  print(\"C:\\Windows\")\n"
     ]
    }
   ],
   "source": [
    "### 004 print 기초\n",
    "### 화면에 C:\\Windows를 출력하세요\n",
    "\n",
    "print(\"C:\\Windows\")"
   ]
  },
  {
   "cell_type": "code",
   "execution_count": 14,
   "id": "8799851b-ccc0-4c34-ad55-16cc2f8fd490",
   "metadata": {},
   "outputs": [
    {
     "name": "stdout",
     "output_type": "stream",
     "text": [
      "안녕하세요.\n",
      " 만나서\t\t 반갑습니다.\n"
     ]
    }
   ],
   "source": [
    "### 005 print 탭과 줄바꿈\n",
    "### 다음 코드를 실행해보고 \\t와 \\n의 역할을 설명해보세요\n",
    "\n",
    "print(\"안녕하세요.\\n 만나서\\t\\t 반갑습니다.\")\n",
    "## \\n은 줄바꿈\n",
    "## \\t는 탭"
   ]
  },
  {
   "cell_type": "code",
   "execution_count": 16,
   "id": "b7053f59-e9f4-413b-9881-538f25039e80",
   "metadata": {},
   "outputs": [
    {
     "name": "stdout",
     "output_type": "stream",
     "text": [
      "오늘은 일요일\n"
     ]
    }
   ],
   "source": [
    "### 006 print 여러 데이터 출력\n",
    "### print 함수에 두 개의 단어를 입력한 예제입니다. 아래 콛의 출력 결과를 예상해 봅시다.\n",
    "\n",
    "print(\"오늘은\", \"일요일\")  ### \"오늘은 일요일\"로 출력 될 것임"
   ]
  },
  {
   "cell_type": "code",
   "execution_count": 17,
   "id": "0e6f944f-9d09-41a8-98e1-1e23279dc96e",
   "metadata": {},
   "outputs": [
    {
     "name": "stdout",
     "output_type": "stream",
     "text": [
      "naver;kakao;sk;samsung\n"
     ]
    }
   ],
   "source": [
    "### 007 print 기초\n",
    "### print() 함수를 사용하여 다음과 같이 출력하세요.\n",
    "### naver;kakao;sk;samsung\n",
    "\n",
    "print(\"naver;kakao;sk;samsung\")"
   ]
  },
  {
   "cell_type": "code",
   "execution_count": 18,
   "id": "60b2cd99-329f-41fc-8a78-4198fca88f91",
   "metadata": {},
   "outputs": [
    {
     "name": "stdout",
     "output_type": "stream",
     "text": [
      "naver/kakao/sk/samsung\n"
     ]
    }
   ],
   "source": [
    "### 008 print 기초\n",
    "### print() 함수를 사용하여 다음과 같이 출력하세요\n",
    "### naver/kakao/sk/samsung\n",
    "\n",
    "print(\"naver/kakao/sk/samsung\")"
   ]
  },
  {
   "cell_type": "code",
   "execution_count": 22,
   "id": "9a3f85e1-172d-4886-8e70-a9d52a59a691",
   "metadata": {},
   "outputs": [
    {
     "name": "stdout",
     "output_type": "stream",
     "text": [
      "firstsecond\n"
     ]
    }
   ],
   "source": [
    "### 009 print 줄바꿈\n",
    "### 다음 코드를 수정하여 줄바꿈 없이 출력하게요. (힌트:end=\") print함수는 두번 사용합니다. 세미콜론(;)은 한줄에\n",
    "### 여러 개의 명령을 작성하기 위해 사용합니다\n",
    "### print(\"first\");print(\"second\")\n",
    "print(\"first\", end=\"\"); print(\"second\")"
   ]
  },
  {
   "cell_type": "code",
   "execution_count": 24,
   "id": "1d18e81c-78a6-48b8-80fc-2e48ee2548fb",
   "metadata": {},
   "outputs": [
    {
     "name": "stdout",
     "output_type": "stream",
     "text": [
      "1.6666666666666667\n"
     ]
    }
   ],
   "source": [
    "### 010 연산 결과 출력\n",
    "### 5/3의 결과를 화면에 출력하세요\n",
    "\n",
    "print(5/3)"
   ]
  },
  {
   "cell_type": "markdown",
   "id": "2530d3aa-046a-402d-9399-d27198784c6f",
   "metadata": {},
   "source": [
    "# 파이썬 문제 011 ~ 020\n",
    "## 파이썬 변수"
   ]
  },
  {
   "cell_type": "code",
   "execution_count": 26,
   "id": "6eec5992-8dc5-4d16-bcfe-d185b1c9b057",
   "metadata": {},
   "outputs": [
    {
     "name": "stdout",
     "output_type": "stream",
     "text": [
      "500000\n"
     ]
    }
   ],
   "source": [
    "### 011 변수 사용하기\n",
    "### 삼성전자라는 변수로 50,000원을 바인딩해보세요. 삼성전자 주식 10주를 보유하고 있을 때\n",
    "### 총 평가금액을 출력하세요.\n",
    "\n",
    "삼성전자 = 50000\n",
    "총평가금액 = 삼성전자 * 10\n",
    "\n",
    "print(총평가금액)"
   ]
  },
  {
   "cell_type": "code",
   "execution_count": 31,
   "id": "d70779da-1f6f-4b82-92aa-7e9ddb232ff4",
   "metadata": {
    "jp-MarkdownHeadingCollapsed": true
   },
   "outputs": [],
   "source": [
    "### 012 변수 사용하기\n",
    "### 다음 표는 삼성전자의 일부 투자정보입니다.\n",
    "### 변수를 사용해서 시가총액, 현재가, PER 등을 바인딩해보세요\n",
    "### |항목|값|\n",
    "### |시가총액|298조|\n",
    "### |현재가|50,000원|\n",
    "### |PER|15.79|\n",
    "\n",
    "시가총액 = 298000000000000\n",
    "현재가 = 50000\n",
    "PER = 15.79"
   ]
  },
  {
   "cell_type": "code",
   "execution_count": 36,
   "id": "563f3df7-1409-417e-b7be-65c636c2bbc9",
   "metadata": {},
   "outputs": [
    {
     "data": {
      "text/plain": [
       "(15.79, float)"
      ]
     },
     "execution_count": 36,
     "metadata": {},
     "output_type": "execute_result"
    }
   ],
   "source": [
    "시가총액, type(시가총액)"
   ]
  },
  {
   "cell_type": "code",
   "execution_count": 37,
   "id": "4be56f5d-c4d8-4342-9e85-08fc7996f1bc",
   "metadata": {},
   "outputs": [
    {
     "data": {
      "text/plain": [
       "(50000, int)"
      ]
     },
     "execution_count": 37,
     "metadata": {},
     "output_type": "execute_result"
    }
   ],
   "source": [
    "현재가, type(현재가)"
   ]
  },
  {
   "cell_type": "code",
   "execution_count": 38,
   "id": "2c845ab6-c5c9-4a76-b6d9-356206b5595b",
   "metadata": {},
   "outputs": [
    {
     "data": {
      "text/plain": [
       "(15.79, float)"
      ]
     },
     "execution_count": 38,
     "metadata": {},
     "output_type": "execute_result"
    }
   ],
   "source": [
    "PER, type(PER)"
   ]
  },
  {
   "cell_type": "code",
   "execution_count": 41,
   "id": "c050ecd2-4e4a-4f76-8cbd-3c70c79bf48b",
   "metadata": {},
   "outputs": [
    {
     "name": "stdout",
     "output_type": "stream",
     "text": [
      "hello! python\n"
     ]
    }
   ],
   "source": [
    "### 013 문자열 출력\n",
    "### 변수 s와 t에는 각각 문자열이 바인딩 되어있습니다.\n",
    "### s = \"hello\" / t = \"python\"\n",
    "\n",
    "### 두 변수를 이용하여 아래와 같이 출력해보세요\n",
    "### 실행 예: hello! python\n",
    "\n",
    "s = \"hello\"\n",
    "t = \"python\"\n",
    "\n",
    "print(s+\"!\"+\"\",t)"
   ]
  },
  {
   "cell_type": "code",
   "execution_count": 42,
   "id": "28c3abd0-b4d0-41a9-8d8f-7ece662bbc3b",
   "metadata": {},
   "outputs": [
    {
     "name": "stdout",
     "output_type": "stream",
     "text": [
      "8\n"
     ]
    }
   ],
   "source": [
    "### 014 파이썬을 이용한 값 계산\n",
    "### 아래 코드의 실행 결과를 예상해보세요.\n",
    "### 2+2*3\n",
    "\n",
    "print(2+2*3)"
   ]
  },
  {
   "cell_type": "code",
   "execution_count": 44,
   "id": "f3e33773-d459-4353-b901-711a55250fea",
   "metadata": {},
   "outputs": [
    {
     "data": {
      "text/plain": [
       "str"
      ]
     },
     "execution_count": 44,
     "metadata": {},
     "output_type": "execute_result"
    }
   ],
   "source": [
    "### 015 type 함수\n",
    "### type() 함수는 데이터 타입을 판별합니다.\n",
    "### 변수 a에는 128 숫자가 바인딩돼 있어 type 함수가 int(정수)형임을 알려줍니다\n",
    "\n",
    "### 아래 변수에 바인딩된 값의 타입을 판별해보세요\n",
    "a = \"132\" ### str\n",
    "\n",
    "type(a)"
   ]
  },
  {
   "cell_type": "code",
   "execution_count": 50,
   "id": "20401fa9-d442-4ee4-ba26-c823198783a5",
   "metadata": {
    "scrolled": true
   },
   "outputs": [
    {
     "name": "stdout",
     "output_type": "stream",
     "text": [
      "721 <class 'int'>\n"
     ]
    }
   ],
   "source": [
    "### 016 문자열을 정수로 변환\n",
    "### 문자열 '720'를 정수형으로 변환해보세요.\n",
    "num_str = \"720\"\n",
    "\n",
    "num_int = int(num_str)\n",
    "print((num_int +1), type(num_int))"
   ]
  },
  {
   "cell_type": "code",
   "execution_count": 52,
   "id": "cfacefbf-d68d-4e94-9729-2b128905f19f",
   "metadata": {},
   "outputs": [],
   "source": [
    "### 017 정수를 문자열 100으로 변환\n",
    "### 정수 100을 문자열 '100'으로 변환해 보세요\n",
    "num = 100"
   ]
  },
  {
   "cell_type": "code",
   "execution_count": 53,
   "id": "21032a20-9042-4de9-a4d4-08f72b9f328f",
   "metadata": {
    "scrolled": true
   },
   "outputs": [
    {
     "name": "stdout",
     "output_type": "stream",
     "text": [
      "100 <class 'str'>\n"
     ]
    }
   ],
   "source": [
    "num_str = str(num)\n",
    "print(num_str, type(num_str))"
   ]
  },
  {
   "cell_type": "code",
   "execution_count": 55,
   "id": "5e4d4f78-e9b7-48aa-9878-5bcfed6c0b62",
   "metadata": {},
   "outputs": [
    {
     "name": "stdout",
     "output_type": "stream",
     "text": [
      "15.79\n"
     ]
    },
    {
     "data": {
      "text/plain": [
       "str"
      ]
     },
     "execution_count": 55,
     "metadata": {},
     "output_type": "execute_result"
    }
   ],
   "source": [
    "### 018 문자열을 실수로 변환\n",
    "### 문자열 \"15.79\"를 실수(float) 타입으로 변환해보세요\n",
    "\n",
    "a = \"15.79\"\n",
    "print(a)\n",
    "type(a)"
   ]
  },
  {
   "cell_type": "code",
   "execution_count": 57,
   "id": "bedbd4c2-d936-40bf-9515-451cb91932ef",
   "metadata": {},
   "outputs": [
    {
     "name": "stdout",
     "output_type": "stream",
     "text": [
      "15.79\n"
     ]
    },
    {
     "data": {
      "text/plain": [
       "float"
      ]
     },
     "execution_count": 57,
     "metadata": {},
     "output_type": "execute_result"
    }
   ],
   "source": [
    "b = float(a)\n",
    "print(b)\n",
    "type(b)"
   ]
  },
  {
   "cell_type": "code",
   "execution_count": 59,
   "id": "163f1d87-9eca-4dc0-abcf-246d60aeae97",
   "metadata": {},
   "outputs": [
    {
     "name": "stdout",
     "output_type": "stream",
     "text": [
      "2020\n"
     ]
    },
    {
     "data": {
      "text/plain": [
       "str"
      ]
     },
     "execution_count": 59,
     "metadata": {},
     "output_type": "execute_result"
    }
   ],
   "source": [
    "### 019 무자열을 정수로 변환\n",
    "### year라는 변수가 문자열 타입의 연도를 바인딩하고 있습니다.\n",
    "### 이를 정수로 변환한 후 최근 3년의 연도를 화면에 출력해보세요\n",
    "\n",
    "year = \"2020\"\n",
    "\n",
    "print(year)\n",
    "type(year)"
   ]
  },
  {
   "cell_type": "code",
   "execution_count": 62,
   "id": "0ea70e05-b247-44bf-b0d4-c3d4cbd4f21d",
   "metadata": {},
   "outputs": [
    {
     "name": "stdout",
     "output_type": "stream",
     "text": [
      "2020\n"
     ]
    },
    {
     "data": {
      "text/plain": [
       "int"
      ]
     },
     "execution_count": 62,
     "metadata": {},
     "output_type": "execute_result"
    }
   ],
   "source": [
    "year_int = int(year)\n",
    "print(year_int)\n",
    "type(year_int)"
   ]
  },
  {
   "cell_type": "code",
   "execution_count": 65,
   "id": "922df7b9-6eea-442f-8104-ff44a226a50b",
   "metadata": {},
   "outputs": [
    {
     "name": "stdout",
     "output_type": "stream",
     "text": [
      "1749024\n"
     ]
    }
   ],
   "source": [
    "### 020 파이썬 계산\n",
    "###에어컨이 월 48,584원에 무이자 36개월의 조건으로 홈쇼핑에서 판매되고 있습니다.\n",
    "### 총 금액은 계산 후 이를 화면에 출력해보세요. (면수사용하기)\n",
    "\n",
    "m_price = 48584\n",
    "total_price = m_price * 36\n",
    "\n",
    "print(total_price)"
   ]
  },
  {
   "cell_type": "markdown",
   "id": "daa0cecf-bf9b-4288-8f98-cba54c4c8fe3",
   "metadata": {},
   "source": [
    "## 파이썬 문자열\n",
    "### 021 ~ 050 문제"
   ]
  },
  {
   "cell_type": "code",
   "execution_count": 66,
   "id": "cd3b233a-3dc7-4569-814d-e465f3df934b",
   "metadata": {},
   "outputs": [
    {
     "name": "stdout",
     "output_type": "stream",
     "text": [
      "p t\n"
     ]
    }
   ],
   "source": [
    "### 021 문자열 인덱싱\n",
    "### letters가 바인딩하는 문자열에서 첫번째와 세번째 문자를 출력하세요\n",
    "\n",
    "letters = \"python\"\n",
    "\n",
    "print(letters[0], letters[2])"
   ]
  },
  {
   "cell_type": "code",
   "execution_count": 67,
   "id": "8565512f-a397-4877-9472-eadc67ce1e97",
   "metadata": {},
   "outputs": [
    {
     "name": "stdout",
     "output_type": "stream",
     "text": [
      "2210\n"
     ]
    }
   ],
   "source": [
    "### 022 문자열 슬라이싱\n",
    "### 자동차 번호가 다음과 같은 때 뒤에 4자리만 출력하세요.\n",
    "license_plate = \"24가 2210\"\n",
    "\n",
    "print(license_plate[-4:])"
   ]
  },
  {
   "cell_type": "code",
   "execution_count": 73,
   "id": "f73118e6-5638-44e0-8540-6a9acb997bcd",
   "metadata": {},
   "outputs": [
    {
     "name": "stdout",
     "output_type": "stream",
     "text": [
      "홀홀홀\n"
     ]
    }
   ],
   "source": [
    "### 023 문자열 인덱싱\n",
    "### 아래의 문자열에서 '홀'만 출력하세요.\n",
    "string = \"홀짝홀짝홀짝\"\n",
    "\n",
    "print(string[::2])"
   ]
  },
  {
   "cell_type": "code",
   "execution_count": 75,
   "id": "0dc7dfc2-7ece-4abe-b505-5edd3f14538b",
   "metadata": {},
   "outputs": [
    {
     "name": "stdout",
     "output_type": "stream",
     "text": [
      "NOHTYP\n"
     ]
    }
   ],
   "source": [
    "### 024 문자열 슬라이싱\n",
    "### 문자열을 거꾸로 뒤집어 출력하세요.\n",
    "string = \"PYTHON\"\n",
    "print(string[::-1])"
   ]
  },
  {
   "cell_type": "code",
   "execution_count": 79,
   "id": "635f3ecf-3416-4472-8770-32a46a7d61a2",
   "metadata": {},
   "outputs": [
    {
     "name": "stdout",
     "output_type": "stream",
     "text": [
      "010 1111 2222\n"
     ]
    }
   ],
   "source": [
    "### 025 문자열 치환\n",
    "### 아래의 전화번호에서 하이푼 (\"-\")을 제거하고 출력하세요.\n",
    "phone_number = \"010-1111-2222\"\n",
    "\n",
    "print(phone_number.replace(\"-\", \" \"))"
   ]
  },
  {
   "cell_type": "code",
   "execution_count": 80,
   "id": "120b8ba1-8e6b-40d4-a302-358aa9fe12b2",
   "metadata": {},
   "outputs": [
    {
     "name": "stdout",
     "output_type": "stream",
     "text": [
      "01011112222\n"
     ]
    }
   ],
   "source": [
    "### 026 문자열 다루기\n",
    "### 25번 문제의 전화번호를 아래와 같이 모두 붙여 출력하세요\n",
    "### 01011112222\n",
    "\n",
    "print(phone_number.replace(\"-\", \"\"))"
   ]
  },
  {
   "cell_type": "code",
   "execution_count": 84,
   "id": "6f9f2bb8-991e-4add-a3ef-71163c39f27c",
   "metadata": {},
   "outputs": [
    {
     "name": "stdout",
     "output_type": "stream",
     "text": [
      "kr\n"
     ]
    }
   ],
   "source": [
    "### 027 문자열 다루기\n",
    "### url에 지정된 웹 페이지 주소에서 도메인을 출력하세요.\n",
    "url = \"http://sharebook.kr\"\n",
    "domain = url.split(\".\")\n",
    "\n",
    "print(domain[-1])"
   ]
  },
  {
   "cell_type": "code",
   "execution_count": 85,
   "id": "0985a1bc-d2c8-4f5f-a9cd-bd2c4f26e0d8",
   "metadata": {},
   "outputs": [
    {
     "ename": "TypeError",
     "evalue": "'str' object does not support item assignment",
     "output_type": "error",
     "traceback": [
      "\u001b[1;31m---------------------------------------------------------------------------\u001b[0m",
      "\u001b[1;31mTypeError\u001b[0m                                 Traceback (most recent call last)",
      "Cell \u001b[1;32mIn[85], line 5\u001b[0m\n\u001b[0;32m      1\u001b[0m \u001b[38;5;66;03m### 028 문자열은 immutable\u001b[39;00m\n\u001b[0;32m      2\u001b[0m \u001b[38;5;66;03m### 아래 코드의 실행 결과를 예상해보세요\u001b[39;00m\n\u001b[0;32m      4\u001b[0m lang \u001b[38;5;241m=\u001b[39m \u001b[38;5;124m'\u001b[39m\u001b[38;5;124mpython\u001b[39m\u001b[38;5;124m'\u001b[39m\n\u001b[1;32m----> 5\u001b[0m \u001b[43mlang\u001b[49m\u001b[43m[\u001b[49m\u001b[38;5;241;43m0\u001b[39;49m\u001b[43m]\u001b[49m \u001b[38;5;241m=\u001b[39m \u001b[38;5;124m'\u001b[39m\u001b[38;5;124mP\u001b[39m\u001b[38;5;124m'\u001b[39m\n\u001b[0;32m      6\u001b[0m \u001b[38;5;28mprint\u001b[39m(lang) \u001b[38;5;66;03m### \u001b[39;00m\n",
      "\u001b[1;31mTypeError\u001b[0m: 'str' object does not support item assignment"
     ]
    }
   ],
   "source": [
    "### 028 문자열은 immutable\n",
    "### 아래 코드의 실행 결과를 예상해보세요\n",
    "\n",
    "lang = 'python'\n",
    "lang[0] = 'P'\n",
    "print(lang) ### 오류 발생"
   ]
  },
  {
   "cell_type": "code",
   "execution_count": 86,
   "id": "53a5f611-7377-48d8-9a5b-a558cb2b5482",
   "metadata": {},
   "outputs": [
    {
     "name": "stdout",
     "output_type": "stream",
     "text": [
      "Abcdfe2A354A32A\n"
     ]
    }
   ],
   "source": [
    "### 029 replace 메서드\n",
    "### 아래 문자열에서 소문자 'a'를 대문자 'A'로 변경하세요.\n",
    "\n",
    "string = 'abcdfe2a354a32a'\n",
    "string_re = string.replace('a', 'A')\n",
    "\n",
    "print(string_re)"
   ]
  },
  {
   "cell_type": "code",
   "execution_count": 88,
   "id": "d51332b4-3e20-4340-9ccc-9c6056c09e9e",
   "metadata": {},
   "outputs": [
    {
     "name": "stdout",
     "output_type": "stream",
     "text": [
      "abcd\n"
     ]
    }
   ],
   "source": [
    "### 30 replace 메서드\n",
    "### 아래 코드의 실행 결과를 예상해보세요\n",
    "\n",
    "string = 'abcd'\n",
    "string.replace('b', 'B')\n",
    "print(string)\n",
    "### abcd => 대문자 B를 대체한 것을 변수로 설정 하지 않고 기존의 변수 'string'을 불러왔기 때문에"
   ]
  },
  {
   "cell_type": "code",
   "execution_count": 89,
   "id": "5d28d492-b562-4798-b1ac-c85af755a49e",
   "metadata": {},
   "outputs": [
    {
     "name": "stdout",
     "output_type": "stream",
     "text": [
      "34\n"
     ]
    }
   ],
   "source": [
    "### 031 문자열 합치기\n",
    "### 아래 코드의 실행 결과를 예상해보세요\n",
    "\n",
    "a = \"3\"\n",
    "b = \"4\"\n",
    "print(a + b) ### 34로 예상, 무자열의 합이기 때문에"
   ]
  },
  {
   "cell_type": "code",
   "execution_count": 90,
   "id": "08efbc81-c834-4e22-a04d-d5a9db554ad9",
   "metadata": {},
   "outputs": [
    {
     "name": "stdout",
     "output_type": "stream",
     "text": [
      "HiHiHi\n"
     ]
    }
   ],
   "source": [
    "### 032 문자열 곱하기\n",
    "### 아래 코드의 실행 결과를 예상해보세요\n",
    "\n",
    "print(\"Hi\" * 3) ### HiHiHi로 예상"
   ]
  },
  {
   "cell_type": "code",
   "execution_count": 91,
   "id": "be10d50a-e2b8-4af9-b2b3-b042d5f2146c",
   "metadata": {},
   "outputs": [
    {
     "name": "stdout",
     "output_type": "stream",
     "text": [
      "--------------------------------------------------------------------------------\n"
     ]
    }
   ],
   "source": [
    "### 033 문자열 곱하기\n",
    "### 화면에 '-'를 80개 출력하세요\n",
    "\n",
    "print('-' * 80)"
   ]
  },
  {
   "cell_type": "code",
   "execution_count": 92,
   "id": "f9dce369-2ed8-49a9-9387-2b39dbed6520",
   "metadata": {},
   "outputs": [
    {
     "name": "stdout",
     "output_type": "stream",
     "text": [
      "python java python java python java python java \n"
     ]
    }
   ],
   "source": [
    "### 034 문자열 곱하기\n",
    "### 변수에 다음과 같은 문자열이 바인딩되어 있습니다\n",
    "t1 = 'python'\n",
    "t2 = 'java'\n",
    "### 변수에 문자열 더하기와 문자열 곱하기를 사용해서 아래와 같이 출력해보세요.\n",
    "### python java python java python java python java\n",
    "\n",
    "print((t1+\" \"+t2+\" \")*4)"
   ]
  },
  {
   "cell_type": "code",
   "execution_count": 95,
   "id": "e299bdf3-8eea-43ed-9b43-05f26986cb18",
   "metadata": {},
   "outputs": [
    {
     "name": "stdout",
     "output_type": "stream",
     "text": [
      "이름: 김민수 나이 : 10\n",
      "이름: 이철희 나이 : 13\n"
     ]
    }
   ],
   "source": [
    "### 035 문자열 출력\n",
    "### 변수에 다음과 같이 문자열과 정수가 바인딩되어 있을 때 % formatting을 사용해서 다음과 같이\n",
    "### 출력하세요\n",
    "\n",
    "name1 = \"김민수\"\n",
    "age1 = 10\n",
    "name2 = \"이철희\"\n",
    "age2 = 13\n",
    "\n",
    "### 실행 예\n",
    "### 이름: 김민수 나이: 10\n",
    "### 이름: 이철희 나이: 13\n",
    "print(\"이름: %s 나이 : %d\"%(name1, age1))\n",
    "print(\"이름: %s 나이 : %d\"%(name2, age2))"
   ]
  },
  {
   "cell_type": "code",
   "execution_count": 96,
   "id": "11fb7a9e-63e9-403b-8997-1392da29cba0",
   "metadata": {},
   "outputs": [
    {
     "name": "stdout",
     "output_type": "stream",
     "text": [
      "이름: 김민수 나이 : 10\n",
      "이름: 이철희 나이 : 13\n"
     ]
    }
   ],
   "source": [
    "### 036 문자열 출력\n",
    "### 문자열의 format() 메서드를 이용해서 035번 문제를 다시 풀어보세요\n",
    "print(\"이름: {} 나이 : {}\".format(name1, age1))\n",
    "print(\"이름: {} 나이 : {}\".format(name2, age2))"
   ]
  },
  {
   "cell_type": "code",
   "execution_count": 98,
   "id": "581c8dc1-7cfd-46b4-90ec-d4c7265fc786",
   "metadata": {},
   "outputs": [
    {
     "name": "stdout",
     "output_type": "stream",
     "text": [
      "이름: 김민수 나이 : 10\n",
      "이름: 이철희 나이 : 13\n"
     ]
    }
   ],
   "source": [
    "### 037 문자열 출력\n",
    "### 파이썬 3.6부터 지원하는 f-string을 사용해서 035번 문제를 다시 풀어보세요.\n",
    "\n",
    "print(f\"이름: {name1} 나이 : {age1}\")\n",
    "print(f\"이름: {name2} 나이 : {age2}\")"
   ]
  },
  {
   "cell_type": "code",
   "execution_count": 99,
   "id": "f3158865-35fe-4e99-b96c-2130a818c7ac",
   "metadata": {},
   "outputs": [
    {
     "name": "stdout",
     "output_type": "stream",
     "text": [
      "5969782550\n"
     ]
    }
   ],
   "source": [
    "### 038 컴마 제거하기\n",
    "### 삼성전자의 상장주식수가 다음과 같습니다. 컴마를 제거한 후 이를 정수 타입으로 변환해보세요.\n",
    "\n",
    "상장주식수 = \"5,969,782,550\"\n",
    "rm_상장주식수 = 상장주식수.replace(\",\",\"\")\n",
    "print(rm_상장주식수)"
   ]
  },
  {
   "cell_type": "code",
   "execution_count": 102,
   "id": "7b9f3ad9-4648-49b3-ab27-2abc314b7e7d",
   "metadata": {},
   "outputs": [
    {
     "name": "stdout",
     "output_type": "stream",
     "text": [
      "5969782550\n"
     ]
    },
    {
     "data": {
      "text/plain": [
       "int"
      ]
     },
     "execution_count": 102,
     "metadata": {},
     "output_type": "execute_result"
    }
   ],
   "source": [
    "in_상장주식수 = int(rm_상장주식수)\n",
    "\n",
    "print(in_상장주식수)\n",
    "type(in_상장주식수)"
   ]
  },
  {
   "cell_type": "code",
   "execution_count": 103,
   "id": "0090d5fc-4103-455e-a4d6-b81dfb3bb0cc",
   "metadata": {},
   "outputs": [
    {
     "name": "stdout",
     "output_type": "stream",
     "text": [
      "2020/03\n"
     ]
    }
   ],
   "source": [
    "### 039 문자열 슬라이싱\n",
    "### 다음과 같은 문자열에서 '2020/03'만 출력하세요\n",
    "\n",
    "분기 = \"2020/03(E) (IFRS연결)\"\n",
    "\n",
    "print(분기[:7])"
   ]
  },
  {
   "cell_type": "code",
   "execution_count": 105,
   "id": "efd4002a-2a76-4818-9d70-6638a40807db",
   "metadata": {},
   "outputs": [
    {
     "name": "stdout",
     "output_type": "stream",
     "text": [
      "삼성전자\n"
     ]
    }
   ],
   "source": [
    "### 040 strip 메서드\n",
    "### 문자열의 좌우의 공백이 있을 때, 이를 제거해보세요.\n",
    "\n",
    "data = \"   삼성전자    \"\n",
    "\n",
    "print(data.strip())"
   ]
  },
  {
   "cell_type": "code",
   "execution_count": 109,
   "id": "0b275026-6ebf-44c8-a1a8-8c343854775c",
   "metadata": {},
   "outputs": [
    {
     "name": "stdout",
     "output_type": "stream",
     "text": [
      "BTC_KRW\n"
     ]
    }
   ],
   "source": [
    "### 041 upper 메서드\n",
    "### 다음과 같은 문자열이 있을 때 이를 대문자 BTC_KRW로 변경하세요.\n",
    "ticker = \"btc_krw\"\n",
    "\n",
    "Cap_ticker = ticker.upper()\n",
    "print(Cap_ticker)"
   ]
  },
  {
   "cell_type": "code",
   "execution_count": 110,
   "id": "4ba9654d-904c-4a8a-92b9-ea6fdb1b461e",
   "metadata": {},
   "outputs": [
    {
     "name": "stdout",
     "output_type": "stream",
     "text": [
      "btc_krw\n"
     ]
    }
   ],
   "source": [
    "### 042 lower 메서드\n",
    "### 다음과 같은 문자열이 있을 때 소문자 btc_krw로 변경하세요\n",
    "\n",
    "ticker = \"BTC_KRW\"\n",
    "lw_ticker = ticker.lower()\n",
    "\n",
    "print(lw_ticker)"
   ]
  },
  {
   "cell_type": "code",
   "execution_count": 111,
   "id": "3c3dbe7a-1ca9-4fc9-a7a8-3e67c037bfcb",
   "metadata": {},
   "outputs": [
    {
     "name": "stdout",
     "output_type": "stream",
     "text": [
      "Hello\n"
     ]
    }
   ],
   "source": [
    "### 043 capitalize 메서드\n",
    "### 문자열 'hllo'가 있을 때, 이를 'HELLO'로 변경해보세요\n",
    "\n",
    "a = \"hello\"\n",
    "print(a.capitalize())"
   ]
  },
  {
   "cell_type": "code",
   "execution_count": 113,
   "id": "170f52d5-3124-4319-8821-1cc9a81e75bb",
   "metadata": {},
   "outputs": [
    {
     "data": {
      "text/plain": [
       "True"
      ]
     },
     "execution_count": 113,
     "metadata": {},
     "output_type": "execute_result"
    }
   ],
   "source": [
    "### 044 endswith 메서드\n",
    "### 파일 이름이 문자열로 저장되어 있을 때\n",
    "### endswith 메서드를 사용해서 파일 이름이 'xlsx'로 끝나는지 확인해보세요\n",
    "file_name = \"보고서.xlsx\"\n",
    "\n",
    "file_name.endswith(\"xlsx\")"
   ]
  },
  {
   "cell_type": "code",
   "execution_count": 119,
   "id": "3873f22a-bb09-40f4-aa03-ee2ba244f461",
   "metadata": {},
   "outputs": [
    {
     "data": {
      "text/plain": [
       "True"
      ]
     },
     "execution_count": 119,
     "metadata": {},
     "output_type": "execute_result"
    }
   ],
   "source": [
    "### 045 endswith 메서드\n",
    "### 파일 이름이 문자열로 저장되어 있을 때 endswith 메서드를 사용해서\n",
    "### 파일 이름이 'xlsx' 또는 'xls'로 끝나는지 확인해보세요.\n",
    "\n",
    "file_name.endswith(('xlsx', 'xls'))"
   ]
  },
  {
   "cell_type": "code",
   "execution_count": 120,
   "id": "c9cfe363-98ed-475c-ba23-70918b17a191",
   "metadata": {},
   "outputs": [
    {
     "data": {
      "text/plain": [
       "True"
      ]
     },
     "execution_count": 120,
     "metadata": {},
     "output_type": "execute_result"
    }
   ],
   "source": [
    "### 046 starswith 메서드\n",
    "### 파일 이름이 문자열로 저장되어 있을 때 starswith 메서드를 사용해서\n",
    "### 파일 이름이 '2020'로 시작하는지 확인해보세요\n",
    "\n",
    "file_name = \"2020_보고서.xlsx\"\n",
    "file_name.startswith('2020')"
   ]
  },
  {
   "cell_type": "code",
   "execution_count": 121,
   "id": "7ed08723-e466-4ba3-a690-164143df02a5",
   "metadata": {},
   "outputs": [
    {
     "name": "stdout",
     "output_type": "stream",
     "text": [
      "['hello', 'world']\n"
     ]
    }
   ],
   "source": [
    "### 047 split 메서드\n",
    "### 다음과 같은 문자열이 있을 때 공백을 기준으로 문자열을 나눠보세요\n",
    "a = \"hello world\"\n",
    "b = a.split(\" \")\n",
    "print(b)"
   ]
  },
  {
   "cell_type": "code",
   "execution_count": 124,
   "id": "92c45d3a-f344-41b4-85f2-8edac5238c77",
   "metadata": {},
   "outputs": [
    {
     "name": "stdout",
     "output_type": "stream",
     "text": [
      "['btc', 'krw']\n"
     ]
    }
   ],
   "source": [
    "### 048 split 메서드\n",
    "### 다음과 같이 문자열이 있을 때 btc와 krw로 나눠보세요.\n",
    "ticker = \"btc_krw\"\n",
    "\n",
    "a = ticker.split(\"_\")\n",
    "print(a)"
   ]
  },
  {
   "cell_type": "code",
   "execution_count": 132,
   "id": "b57268bf-84f8-4f6c-a620-cfbc4052f20a",
   "metadata": {},
   "outputs": [
    {
     "name": "stdout",
     "output_type": "stream",
     "text": [
      "['2020', '05', '01']\n"
     ]
    },
    {
     "data": {
      "text/plain": [
       "('2020', '05', '01')"
      ]
     },
     "execution_count": 132,
     "metadata": {},
     "output_type": "execute_result"
    }
   ],
   "source": [
    "### 049 split 메서드\n",
    "### 다음과 같이 날짜를 표현하는 문자열이 있을 때, 연도, 월, 일로 나눠보세요\n",
    "\n",
    "date = \"2020-05-01\"\n",
    "a = date.split(\"-\")\n",
    "year = a[0]\n",
    "month = a[1]\n",
    "day = a[2]\n",
    "\n",
    "print(a)\n",
    "year, month, day"
   ]
  },
  {
   "cell_type": "code",
   "execution_count": 134,
   "id": "95cc68cf-31d0-4ac6-bbcd-c336b6c37a8b",
   "metadata": {},
   "outputs": [
    {
     "data": {
      "text/plain": [
       "'039390'"
      ]
     },
     "execution_count": 134,
     "metadata": {},
     "output_type": "execute_result"
    }
   ],
   "source": [
    "### 050 rsrtip 메서드\n",
    "### 문자열의 오른쪽에 공백이 있을 때 이를 제거해보세요\n",
    "data = \"039390       \"\n",
    "\n",
    "b = data.rstrip()\n",
    "b"
   ]
  },
  {
   "cell_type": "code",
   "execution_count": null,
   "id": "cb5acd04-1567-4207-a1a5-f2ede462f529",
   "metadata": {},
   "outputs": [],
   "source": []
  }
 ],
 "metadata": {
  "kernelspec": {
   "display_name": "Python 3 (ipykernel)",
   "language": "python",
   "name": "python3"
  },
  "language_info": {
   "codemirror_mode": {
    "name": "ipython",
    "version": 3
   },
   "file_extension": ".py",
   "mimetype": "text/x-python",
   "name": "python",
   "nbconvert_exporter": "python",
   "pygments_lexer": "ipython3",
   "version": "3.12.1"
  }
 },
 "nbformat": 4,
 "nbformat_minor": 5
}
